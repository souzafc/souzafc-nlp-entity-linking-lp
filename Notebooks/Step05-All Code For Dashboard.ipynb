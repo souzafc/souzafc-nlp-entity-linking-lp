{
    "cells": [
        {
            "cell_type": "markdown",
            "metadata": {},
            "source": "##### Project: NLP Entity Linking\n##### Step: All code for the final dashboard\n##### Author: Fabio C. Souza - Jun/2022"
        },
        {
            "cell_type": "markdown",
            "metadata": {},
            "source": "### Please, see the dashboard in the following link:\n- https://dataplatform.cloud.ibm.com/dashboards/010767fc-2d5a-412a-88bb-12998e988292/view/587ff16404901cc26acbdce407ca7a077831260ee4bb8751848d7b495c347697a93d1192c87d4c538915046afbbd475ccb"
        },
        {
            "cell_type": "code",
            "execution_count": 1,
            "metadata": {},
            "outputs": [],
            "source": "#Basic parameters\nmapping_threshold = 0.98\nn_top_kps = 5\n#n_top_k = 50\nn_top_aq = 1000\nn_top_terms_by_kp = 15\n\n#Domain\ndomain = \"medical_demo\"\n\n#Topic\ntopic = \"Left heart catheterization, left ventriculography, coronary angiography, \"\ntopic += \"and successful stenting of tight lesion in the distal circumflex \"\ntopic += \"andmoderately tight lesion in the mid-right coronary artery.\""
        },
        {
            "cell_type": "markdown",
            "metadata": {},
            "source": "##### Notebook preparation ..."
        },
        {
            "cell_type": "code",
            "execution_count": 2,
            "metadata": {},
            "outputs": [],
            "source": "# Imports\n\nimport io\nimport requests\nimport pathlib\nimport zipfile\nimport numpy as np\nimport pandas as pd\nimport seaborn as sns\nimport matplotlib.pyplot as plt\nfrom collections import Counter"
        },
        {
            "cell_type": "markdown",
            "metadata": {},
            "source": "Credentials are in a hidden cell bellow"
        },
        {
            "cell_type": "code",
            "execution_count": 3,
            "metadata": {},
            "outputs": [],
            "source": "# The code was removed by Watson Studio for sharing."
        },
        {
            "cell_type": "code",
            "execution_count": 4,
            "metadata": {},
            "outputs": [],
            "source": "# Storage access object\n\nimport os, types\nimport pandas as pd\nfrom botocore.client import Config\nimport ibm_boto3\n\ndef __iter__(self): return 0\n\nsto = ibm_boto3.client(service_name='s3',\n    ibm_api_key_id=ibm_api_key_id,\n    ibm_auth_endpoint=ibm_auth_endpoint,\n    config=Config(signature_version='oauth'),\n    endpoint_url=endpoint_url\n)"
        },
        {
            "cell_type": "code",
            "execution_count": 5,
            "metadata": {},
            "outputs": [],
            "source": "# Import Dabater\n\nfile = 'debater_python_api.zip'\nsto.download_file(Bucket=bucket, Key=file, Filename=file)\nwith zipfile.ZipFile(file, 'r') as zf:\n    zf.extractall()\n    \nfrom debater_python_api.api.debater_api import DebaterApi"
        },
        {
            "cell_type": "code",
            "execution_count": 6,
            "metadata": {},
            "outputs": [],
            "source": "# Loading the API key and create a client for the Term Wikifier service\n\ndebater_api = DebaterApi(apikey=api_key)\nterm_wikifier_client = debater_api.get_term_wikifier_client()\narg_quality_client = debater_api.get_argument_quality_client()\nkeypoints_client = debater_api.get_keypoints_client()"
        },
        {
            "cell_type": "markdown",
            "metadata": {},
            "source": "##### Data preparation for KPA ..."
        },
        {
            "cell_type": "code",
            "execution_count": 7,
            "metadata": {},
            "outputs": [],
            "source": "# Reading input dataset\n\nfile = 'mtsamples_descriptions_clean.txt'\nsto.download_file(Bucket=bucket, Key=file, Filename=file)\ndf = pd.read_csv(file)"
        },
        {
            "cell_type": "code",
            "execution_count": 8,
            "metadata": {},
            "outputs": [
                {
                    "data": {
                        "text/html": "<div>\n<style scoped>\n    .dataframe tbody tr th:only-of-type {\n        vertical-align: middle;\n    }\n\n    .dataframe tbody tr th {\n        vertical-align: top;\n    }\n\n    .dataframe thead th {\n        text-align: right;\n    }\n</style>\n<table border=\"1\" class=\"dataframe\">\n  <thead>\n    <tr style=\"text-align: right;\">\n      <th></th>\n      <th>id</th>\n      <th>id_description</th>\n      <th>medical_specialty_new</th>\n      <th>text</th>\n      <th>year</th>\n      <th>borough</th>\n    </tr>\n  </thead>\n  <tbody>\n    <tr>\n      <th>0</th>\n      <td>0</td>\n      <td>0</td>\n      <td>Gastroenterology</td>\n      <td>EGD with photos and biopsies</td>\n      <td>2013.0</td>\n      <td>Merton</td>\n    </tr>\n    <tr>\n      <th>1</th>\n      <td>1</td>\n      <td>0</td>\n      <td>Gastroenterology</td>\n      <td>This is a 75-year-old female who presents wit...</td>\n      <td>2013.0</td>\n      <td>Merton</td>\n    </tr>\n    <tr>\n      <th>2</th>\n      <td>2</td>\n      <td>0</td>\n      <td>Gastroenterology</td>\n      <td>She has a previous history of hiatal hernia</td>\n      <td>2013.0</td>\n      <td>Merton</td>\n    </tr>\n  </tbody>\n</table>\n</div>",
                        "text/plain": "   id  id_description medical_specialty_new  \\\n0   0               0      Gastroenterology   \n1   1               0      Gastroenterology   \n2   2               0      Gastroenterology   \n\n                                                text    year borough  \n0                       EGD with photos and biopsies  2013.0  Merton  \n1   This is a 75-year-old female who presents wit...  2013.0  Merton  \n2        She has a previous history of hiatal hernia  2013.0  Merton  "
                    },
                    "execution_count": 8,
                    "metadata": {},
                    "output_type": "execute_result"
                }
            ],
            "source": "df.head(3)"
        },
        {
            "cell_type": "code",
            "execution_count": 9,
            "metadata": {},
            "outputs": [
                {
                    "data": {
                        "text/plain": "array(['Merton', 'Harrow', 'Lewisham', 'Barking and Dagenham', 'Bexley',\n       'Ealing', 'Camden', 'Croydon', 'Bromley', 'Barnet', 'Enfield',\n       'Wandsworth', 'Tower Hamlets', 'City of London', 'Newham',\n       'Greenwich', 'Westminster', 'Southwark', 'Lambeth',\n       'Kensington and Chelsea', 'Kingston upon Thames', 'Havering',\n       'Sutton', 'Hammersmith and Fulham', 'Hillingdon', 'Islington',\n       'Brent', 'Hackney', 'Hounslow', 'Richmond upon Thames',\n       'Waltham Forest', 'Haringey', 'Redbridge', nan], dtype=object)"
                    },
                    "execution_count": 9,
                    "metadata": {},
                    "output_type": "execute_result"
                }
            ],
            "source": "df['borough'].unique()"
        },
        {
            "cell_type": "code",
            "execution_count": 11,
            "metadata": {},
            "outputs": [
                {
                    "data": {
                        "text/html": "<div>\n<style scoped>\n    .dataframe tbody tr th:only-of-type {\n        vertical-align: middle;\n    }\n\n    .dataframe tbody tr th {\n        vertical-align: top;\n    }\n\n    .dataframe thead th {\n        text-align: right;\n    }\n</style>\n<table border=\"1\" class=\"dataframe\">\n  <thead>\n    <tr style=\"text-align: right;\">\n      <th></th>\n      <th></th>\n      <th>id</th>\n    </tr>\n    <tr>\n      <th>id_description</th>\n      <th>borough</th>\n      <th></th>\n    </tr>\n  </thead>\n  <tbody>\n    <tr>\n      <th>847</th>\n      <th>Ealing</th>\n      <td>7</td>\n    </tr>\n    <tr>\n      <th>1209</th>\n      <th>Ealing</th>\n      <td>7</td>\n    </tr>\n    <tr>\n      <th>427</th>\n      <th>Bexley</th>\n      <td>7</td>\n    </tr>\n    <tr>\n      <th>1016</th>\n      <th>Ealing</th>\n      <td>7</td>\n    </tr>\n    <tr>\n      <th>1292</th>\n      <th>Haringey</th>\n      <td>6</td>\n    </tr>\n  </tbody>\n</table>\n</div>",
                        "text/plain": "                         id\nid_description borough     \n847            Ealing     7\n1209           Ealing     7\n427            Bexley     7\n1016           Ealing     7\n1292           Haringey   6"
                    },
                    "execution_count": 11,
                    "metadata": {},
                    "output_type": "execute_result"
                }
            ],
            "source": "df.groupby(by=['id_description','borough']).agg({'id':'count'}).sort_values(by='id', ascending=False)[:5]"
        },
        {
            "cell_type": "code",
            "execution_count": 12,
            "metadata": {},
            "outputs": [
                {
                    "data": {
                        "text/html": "<div>\n<style scoped>\n    .dataframe tbody tr th:only-of-type {\n        vertical-align: middle;\n    }\n\n    .dataframe tbody tr th {\n        vertical-align: top;\n    }\n\n    .dataframe thead th {\n        text-align: right;\n    }\n</style>\n<table border=\"1\" class=\"dataframe\">\n  <thead>\n    <tr style=\"text-align: right;\">\n      <th></th>\n      <th>id</th>\n      <th>id_description</th>\n      <th>medical_specialty_new</th>\n      <th>text</th>\n      <th>year</th>\n      <th>borough</th>\n    </tr>\n  </thead>\n  <tbody>\n    <tr>\n      <th>813</th>\n      <td>813</td>\n      <td>847</td>\n      <td>Radiology</td>\n      <td>Transesophageal echocardiogram for aortic ste...</td>\n      <td>2010.0</td>\n      <td>Ealing</td>\n    </tr>\n    <tr>\n      <th>814</th>\n      <td>814</td>\n      <td>847</td>\n      <td>Radiology</td>\n      <td>Normal left ventricular size and function</td>\n      <td>2010.0</td>\n      <td>Ealing</td>\n    </tr>\n    <tr>\n      <th>815</th>\n      <td>815</td>\n      <td>847</td>\n      <td>Radiology</td>\n      <td>Benign Doppler flow pattern</td>\n      <td>2010.0</td>\n      <td>Ealing</td>\n    </tr>\n    <tr>\n      <th>816</th>\n      <td>816</td>\n      <td>847</td>\n      <td>Radiology</td>\n      <td>Doppler study essentially benign</td>\n      <td>2010.0</td>\n      <td>Ealing</td>\n    </tr>\n    <tr>\n      <th>817</th>\n      <td>817</td>\n      <td>847</td>\n      <td>Radiology</td>\n      <td>Aorta essentially benign</td>\n      <td>2010.0</td>\n      <td>Ealing</td>\n    </tr>\n    <tr>\n      <th>818</th>\n      <td>818</td>\n      <td>847</td>\n      <td>Radiology</td>\n      <td>Atrial septum intact</td>\n      <td>2010.0</td>\n      <td>Ealing</td>\n    </tr>\n    <tr>\n      <th>819</th>\n      <td>819</td>\n      <td>847</td>\n      <td>Radiology</td>\n      <td>Study was negative.</td>\n      <td>2010.0</td>\n      <td>Ealing</td>\n    </tr>\n  </tbody>\n</table>\n</div>",
                        "text/plain": "      id  id_description medical_specialty_new  \\\n813  813             847             Radiology   \n814  814             847             Radiology   \n815  815             847             Radiology   \n816  816             847             Radiology   \n817  817             847             Radiology   \n818  818             847             Radiology   \n819  819             847             Radiology   \n\n                                                  text    year borough  \n813   Transesophageal echocardiogram for aortic ste...  2010.0  Ealing  \n814          Normal left ventricular size and function  2010.0  Ealing  \n815                        Benign Doppler flow pattern  2010.0  Ealing  \n816                   Doppler study essentially benign  2010.0  Ealing  \n817                           Aorta essentially benign  2010.0  Ealing  \n818                               Atrial septum intact  2010.0  Ealing  \n819                                Study was negative.  2010.0  Ealing  "
                    },
                    "execution_count": 12,
                    "metadata": {},
                    "output_type": "execute_result"
                }
            ],
            "source": "df.query(\"id_description==847 and borough=='Ealing'\")"
        },
        {
            "cell_type": "code",
            "execution_count": 13,
            "metadata": {},
            "outputs": [
                {
                    "name": "stdout",
                    "output_type": "stream",
                    "text": "(3248, 6)\n(3245, 6)\n"
                }
            ],
            "source": "# Removing missing values\n\nprint(df.shape)\ndf = df.dropna()\nprint(df.shape)"
        },
        {
            "cell_type": "code",
            "execution_count": 14,
            "metadata": {},
            "outputs": [
                {
                    "name": "stdout",
                    "output_type": "stream",
                    "text": "<class 'pandas.core.frame.DataFrame'>\nInt64Index: 3245 entries, 0 to 3246\nData columns (total 6 columns):\n #   Column                 Non-Null Count  Dtype  \n---  ------                 --------------  -----  \n 0   id                     3245 non-null   object \n 1   id_description         3245 non-null   object \n 2   medical_specialty_new  3245 non-null   object \n 3   text                   3245 non-null   object \n 4   year                   3245 non-null   float64\n 5   borough                3245 non-null   object \ndtypes: float64(1), object(5)\nmemory usage: 177.5+ KB\n"
                }
            ],
            "source": "# Transforming the data so that identifiers are strings\n\ndf[\"id\"] = df[\"id\"].astype(str)\ndf[\"id_description\"] = df[\"id_description\"].astype(str)\ndf.info()"
        },
        {
            "cell_type": "code",
            "execution_count": 15,
            "metadata": {},
            "outputs": [
                {
                    "data": {
                        "text/plain": "OrderedDict([('id', '0'),\n             ('id_description', '0'),\n             ('medical_specialty_new', ' Gastroenterology'),\n             ('text', ' EGD with photos and biopsies'),\n             ('year', 2013.0),\n             ('borough', 'Merton')])"
                    },
                    "execution_count": 15,
                    "metadata": {},
                    "output_type": "execute_result"
                }
            ],
            "source": "# Reshaping the dataset so that each row is an ordered dictionary and creating a data structure sentences to use with the API\n\nfrom collections import OrderedDict\nsentences = df.to_dict(into=OrderedDict, orient=\"records\")\nsentences[0]"
        },
        {
            "cell_type": "code",
            "execution_count": 16,
            "metadata": {},
            "outputs": [
                {
                    "name": "stderr",
                    "output_type": "stream",
                    "text": "ArgumentQualityClient: 100%|\u2588\u2588\u2588\u2588\u2588\u2588\u2588\u2588\u2588\u2588| 3245/3245 [00:50<00:00, 64.41it/s] \n"
                }
            ],
            "source": "# Runnnig argument quality to get scores over sentences\n\nsentences_topic = [\n    { \"sentence\": sentence[\"text\"], \"topic\": topic, }\n    for sentence in sentences\n]\n\nscores = arg_quality_client.run(sentences_topic)"
        },
        {
            "cell_type": "code",
            "execution_count": 18,
            "metadata": {},
            "outputs": [
                {
                    "data": {
                        "text/plain": "[0.3908921778202057, 0.8073611259460449, 0.6512947082519531]"
                    },
                    "execution_count": 18,
                    "metadata": {},
                    "output_type": "execute_result"
                }
            ],
            "source": "scores[:3]"
        },
        {
            "cell_type": "code",
            "execution_count": 73,
            "metadata": {},
            "outputs": [
                {
                    "name": "stdout",
                    "output_type": "stream",
                    "text": "3245 3245\n"
                }
            ],
            "source": "print(len(sentences_topic), len(scores))"
        },
        {
            "cell_type": "code",
            "execution_count": 75,
            "metadata": {},
            "outputs": [
                {
                    "name": "stdout",
                    "output_type": "stream",
                    "text": "705  Lumbar muscle strain and chronic back pain 0.7702313661575317\n"
                }
            ],
            "source": "i = 0\nfor i in range(len(sentences_topic)):\n        if sentences_topic[i].get('sentence').find('Lumbar muscle strain and chronic back pain') >-1:\n            print(i, sentences_topic[i].get('sentence'), scores[i])\n            break\n        i +=1"
        },
        {
            "cell_type": "code",
            "execution_count": 19,
            "metadata": {},
            "outputs": [],
            "source": "# Selecting the top 1,000 sentences most closely related to the chosen topic\n\nsentences_sorted = [\n    s for s in sorted(zip(sentences, scores), \n                      key=lambda x: x[1], reverse=True)\n]\n\nsentences_top_aq = sentences_sorted[:n_top_aq]"
        },
        {
            "cell_type": "code",
            "execution_count": 21,
            "metadata": {},
            "outputs": [
                {
                    "data": {
                        "text/plain": "(OrderedDict([('id', '843'),\n              ('id_description', '863'),\n              ('medical_specialty_new', ' Cardiovascular / Pulmonary'),\n              ('text',\n               ' Cardiac Catheterization - An obese female with a family history of coronary disease and history of chest radiation for Hodgkin disease, presents with an acute myocardial infarction with elevated enzymes.'),\n              ('year', 2010.0),\n              ('borough', 'Lewisham')]),\n 0.9284269213676453)"
                    },
                    "execution_count": 21,
                    "metadata": {},
                    "output_type": "execute_result"
                }
            ],
            "source": "sentences_top_aq[0]"
        },
        {
            "cell_type": "code",
            "execution_count": 22,
            "metadata": {},
            "outputs": [],
            "source": "# Reshaping the data into sentences_texts and sentences_id to use for the KPA job (for the 1k selected sentences)\n\nsentences_texts = [\n    sentence[0][\"text\"] \n    for sentence in sentences_top_aq\n]\n\nsentences_ids = [\n    sentence[0][\"id\"]\n    for sentence in sentences_top_aq\n]"
        },
        {
            "cell_type": "code",
            "execution_count": 23,
            "metadata": {},
            "outputs": [],
            "source": "# Clearing the domain and loading the data for the Key Point Analysis job\n\nkeypoints_client.delete_domain_cannot_be_undone(domain)\n\nkeypoints_client.upload_comments(\n    domain=domain,\n    comments_ids=sentences_ids,\n    comments_texts=sentences_texts,\n    dont_split=True,\n)\n\nkeypoints_client.wait_till_all_comments_are_processed(domain=domain)"
        },
        {
            "cell_type": "code",
            "execution_count": 24,
            "metadata": {},
            "outputs": [
                {
                    "name": "stdout",
                    "output_type": "stream",
                    "text": "Stage 1/1: |--------------------------------------------------| 0.0% Complete\n\nStage 1/1: |--------------------------------------------------| 0.0% Complete\n\nStage 1/1: |--------------------------------------------------| 0.0% Complete\n\nStage 1/1: |\u2588\u2588\u2588\u2588\u2588\u2588\u2588\u2588\u2588-----------------------------------------| 18.2% Complete\n\nStage 1/1: |\u2588\u2588\u2588\u2588\u2588\u2588\u2588\u2588\u2588\u2588\u2588\u2588\u2588\u2588\u2588\u2588\u2588\u2588\u2588\u2588\u2588\u2588----------------------------| 45.5% Complete\n\nStage 1/1: |\u2588\u2588\u2588\u2588\u2588\u2588\u2588\u2588\u2588\u2588\u2588\u2588\u2588\u2588\u2588\u2588\u2588\u2588\u2588\u2588\u2588\u2588\u2588\u2588\u2588\u2588\u2588\u2588\u2588\u2588\u2588\u2588\u2588\u2588\u2588\u2588\u2588\u2588------------| 77.3% Complete\n\nStage 1/1: |\u2588\u2588\u2588\u2588\u2588\u2588\u2588\u2588\u2588\u2588\u2588\u2588\u2588\u2588\u2588\u2588\u2588\u2588\u2588\u2588\u2588\u2588\u2588\u2588\u2588\u2588\u2588\u2588\u2588\u2588\u2588\u2588\u2588\u2588\u2588\u2588\u2588\u2588\u2588\u2588\u2588\u2588\u2588\u2588\u2588\u2588\u2588---| 95.5% Complete\n\nStage 1/1: |\u2588\u2588\u2588\u2588\u2588\u2588\u2588\u2588\u2588\u2588\u2588\u2588\u2588\u2588\u2588\u2588\u2588\u2588\u2588\u2588\u2588\u2588\u2588\u2588\u2588\u2588\u2588\u2588\u2588\u2588\u2588\u2588\u2588\u2588\u2588\u2588\u2588\u2588\u2588\u2588\u2588\u2588\u2588\u2588\u2588\u2588\u2588\u2588\u2588\u2588| 100.0% Complete\n\n\nStage 1/1: |\u2588\u2588\u2588\u2588\u2588\u2588\u2588\u2588\u2588\u2588\u2588\u2588\u2588\u2588\u2588\u2588\u2588\u2588\u2588\u2588\u2588\u2588\u2588\u2588\u2588\u2588\u2588\u2588\u2588\u2588\u2588\u2588\u2588\u2588\u2588\u2588\u2588\u2588\u2588\u2588\u2588\u2588\u2588\u2588\u2588\u2588\u2588\u2588\u2588\u2588| 100.0% Complete\n\n\nStage 1/1: |\u2588\u2588\u2588\u2588\u2588\u2588\u2588\u2588\u2588\u2588\u2588\u2588\u2588\u2588\u2588\u2588\u2588\u2588\u2588\u2588\u2588\u2588\u2588\u2588\u2588\u2588\u2588\u2588\u2588\u2588\u2588\u2588\u2588\u2588\u2588\u2588\u2588\u2588\u2588\u2588\u2588\u2588\u2588\u2588\u2588\u2588\u2588\u2588\u2588\u2588| 100.0% Complete\n\n\nStage 1/1: |\u2588\u2588\u2588\u2588\u2588\u2588\u2588\u2588\u2588\u2588\u2588\u2588\u2588\u2588\u2588\u2588\u2588\u2588\u2588\u2588\u2588\u2588\u2588\u2588\u2588\u2588\u2588\u2588\u2588\u2588\u2588\u2588\u2588\u2588\u2588\u2588\u2588\u2588\u2588\u2588\u2588\u2588\u2588\u2588\u2588\u2588\u2588\u2588\u2588\u2588| 100.0% Complete\n\n\nStage 1/1: |\u2588\u2588\u2588\u2588\u2588\u2588\u2588\u2588\u2588\u2588\u2588\u2588\u2588\u2588\u2588\u2588\u2588\u2588\u2588\u2588\u2588\u2588\u2588\u2588\u2588\u2588\u2588\u2588\u2588\u2588\u2588\u2588\u2588\u2588\u2588\u2588\u2588\u2588\u2588\u2588\u2588\u2588\u2588\u2588\u2588\u2588\u2588\u2588\u2588\u2588| 100.0% Complete\n\n\nStage 1/1: |\u2588\u2588\u2588\u2588\u2588\u2588\u2588\u2588\u2588\u2588\u2588\u2588\u2588\u2588\u2588\u2588\u2588\u2588\u2588\u2588\u2588\u2588\u2588\u2588\u2588\u2588\u2588\u2588\u2588\u2588\u2588\u2588\u2588\u2588\u2588\u2588\u2588\u2588\u2588\u2588\u2588\u2588\u2588\u2588\u2588\u2588\u2588\u2588\u2588\u2588| 100.0% Complete\n\n\nStage 1/1: |\u2588\u2588\u2588\u2588\u2588\u2588\u2588\u2588\u2588\u2588\u2588\u2588\u2588\u2588\u2588\u2588\u2588\u2588\u2588\u2588\u2588\u2588\u2588\u2588\u2588\u2588\u2588\u2588\u2588\u2588\u2588\u2588\u2588\u2588\u2588\u2588\u2588\u2588\u2588\u2588\u2588\u2588\u2588\u2588\u2588\u2588\u2588\u2588\u2588\u2588| 100.0% Complete\n\n\nStage 1/1: |\u2588\u2588\u2588\u2588\u2588\u2588\u2588\u2588\u2588\u2588\u2588\u2588\u2588\u2588\u2588\u2588\u2588\u2588\u2588\u2588\u2588\u2588\u2588\u2588\u2588\u2588\u2588\u2588\u2588\u2588\u2588\u2588\u2588\u2588\u2588\u2588\u2588\u2588\u2588\u2588\u2588\u2588\u2588\u2588\u2588\u2588\u2588\u2588\u2588\u2588| 100.0% Complete\n\n\n"
                }
            ],
            "source": "# Running the KPA job\n\nrun_params = {\n    \"mapping_threshold\": mapping_threshold,\n    \"n_top_kps\": n_top_kps,\n}\n\nfuture = keypoints_client.start_kp_analysis_job(\n    domain=domain,\n    comments_ids=sentences_ids,\n    run_params=run_params,\n)\n\nkpa_result = future.get_result(\n    high_verbosity=True,\n    polling_timout_secs=10,\n)\n    \nfuture.get_job_id();"
        },
        {
            "cell_type": "code",
            "execution_count": 28,
            "metadata": {},
            "outputs": [
                {
                    "data": {
                        "text/plain": "dict_keys(['keypoint_matchings'])"
                    },
                    "execution_count": 28,
                    "metadata": {},
                    "output_type": "execute_result"
                }
            ],
            "source": "kpa_result.keys()"
        },
        {
            "cell_type": "code",
            "execution_count": 42,
            "metadata": {},
            "outputs": [
                {
                    "data": {
                        "text/plain": "6"
                    },
                    "execution_count": 42,
                    "metadata": {},
                    "output_type": "execute_result"
                }
            ],
            "source": "len(kpa_result.get('keypoint_matchings'))"
        },
        {
            "cell_type": "code",
            "execution_count": 43,
            "metadata": {},
            "outputs": [
                {
                    "data": {
                        "text/plain": "dict_keys(['keypoint', 'matching'])"
                    },
                    "execution_count": 43,
                    "metadata": {},
                    "output_type": "execute_result"
                }
            ],
            "source": "kpa_result.get('keypoint_matchings')[0].keys()"
        },
        {
            "cell_type": "code",
            "execution_count": 44,
            "metadata": {},
            "outputs": [
                {
                    "name": "stdout",
                    "output_type": "stream",
                    "text": "none\n Possible inflammatory bowel disease\n Lumbar muscle strain and chronic back pain\n Risk factors for coronary heart disease.\n Urgent cardiac catheterization with coronary angiogram.\n Hemoptysis and history of lung cancer\n"
                }
            ],
            "source": "for i in range(6):\n    print(kpa_result.get('keypoint_matchings')[i].get('keypoint'))"
        },
        {
            "cell_type": "code",
            "execution_count": 50,
            "metadata": {},
            "outputs": [
                {
                    "data": {
                        "text/plain": "{'domain': 'medical_demo',\n 'comment_id': '1924',\n 'sentence_id': 0,\n 'sents_in_comment': 1,\n 'span_start': 0,\n 'span_end': 36,\n 'num_tokens': 4,\n 'argument_quality': 0.6176589727401733,\n 'sentence_text': ' Possible inflammatory bowel disease',\n 'score': 1.0}"
                    },
                    "execution_count": 50,
                    "metadata": {},
                    "output_type": "execute_result"
                }
            ],
            "source": "kpa_result.get('keypoint_matchings')[1].get('matching')[0]"
        },
        {
            "cell_type": "code",
            "execution_count": 51,
            "metadata": {},
            "outputs": [],
            "source": "# Reshaping the KPA results as a pandas DataFrame\n\nmatchings_rows = []\n    \nfor keypoint_matching in kpa_result[\"keypoint_matchings\"]:\n    kp = keypoint_matching[\"keypoint\"]\n\n    for match in keypoint_matching[\"matching\"]:\n        match_row = [\n            kp,\n            match[\"sentence_text\"],\n            match[\"score\"],\n            match[\"comment_id\"],\n            match[\"sentence_id\"],\n            match[\"sents_in_comment\"],\n            match[\"span_start\"],\n            match[\"span_end\"],\n            match[\"num_tokens\"],\n            match[\"argument_quality\"],\n        ]\n\n        matchings_rows.append(match_row)\n\ncols = [\n    \"kp\",\n    \"sentence_text\",\n    \"match_score\",\n    \"comment_id\",\n    \"sentence_id\",\n    \"sents_in_comment\",\n    \"span_start\",\n    \"span_end\",\n    \"num_tokens\",\n    \"argument_quality\",\n]\n    \nmatch_df = pd.DataFrame(matchings_rows, columns=cols)"
        },
        {
            "cell_type": "code",
            "execution_count": 69,
            "metadata": {},
            "outputs": [
                {
                    "data": {
                        "text/html": "<div>\n<style scoped>\n    .dataframe tbody tr th:only-of-type {\n        vertical-align: middle;\n    }\n\n    .dataframe tbody tr th {\n        vertical-align: top;\n    }\n\n    .dataframe thead th {\n        text-align: right;\n    }\n</style>\n<table border=\"1\" class=\"dataframe\">\n  <thead>\n    <tr style=\"text-align: right;\">\n      <th></th>\n      <th>kp</th>\n      <th>sentence_text</th>\n      <th>match_score</th>\n      <th>comment_id</th>\n      <th>sentence_id</th>\n      <th>sents_in_comment</th>\n      <th>span_start</th>\n      <th>span_end</th>\n      <th>num_tokens</th>\n      <th>argument_quality</th>\n    </tr>\n  </thead>\n  <tbody>\n    <tr>\n      <th>325</th>\n      <td>none</td>\n      <td>Psychiatric consultation has been requested a...</td>\n      <td>0.000000</td>\n      <td>624</td>\n      <td>0</td>\n      <td>1</td>\n      <td>0</td>\n      <td>230</td>\n      <td>36</td>\n      <td>0.717444</td>\n    </tr>\n    <tr>\n      <th>732</th>\n      <td>Lumbar muscle strain and chronic back pain</td>\n      <td>Lumbar osteomyelitis and need for durable cen...</td>\n      <td>0.997172</td>\n      <td>1316</td>\n      <td>0</td>\n      <td>1</td>\n      <td>0</td>\n      <td>69</td>\n      <td>9</td>\n      <td>0.630215</td>\n    </tr>\n    <tr>\n      <th>492</th>\n      <td>none</td>\n      <td>She had a recent D&amp;C and laparoscopy, and enla...</td>\n      <td>0.000000</td>\n      <td>6</td>\n      <td>0</td>\n      <td>1</td>\n      <td>0</td>\n      <td>132</td>\n      <td>26</td>\n      <td>0.522513</td>\n    </tr>\n  </tbody>\n</table>\n</div>",
                        "text/plain": "                                              kp  \\\n325                                         none   \n732   Lumbar muscle strain and chronic back pain   \n492                                         none   \n\n                                         sentence_text  match_score  \\\n325   Psychiatric consultation has been requested a...     0.000000   \n732   Lumbar osteomyelitis and need for durable cen...     0.997172   \n492  She had a recent D&C and laparoscopy, and enla...     0.000000   \n\n    comment_id  sentence_id  sents_in_comment  span_start  span_end  \\\n325        624            0                 1           0       230   \n732       1316            0                 1           0        69   \n492          6            0                 1           0       132   \n\n     num_tokens  argument_quality  \n325          36          0.717444  \n732           9          0.630215  \n492          26          0.522513  "
                    },
                    "execution_count": 69,
                    "metadata": {},
                    "output_type": "execute_result"
                }
            ],
            "source": "match_df.sample(3)"
        },
        {
            "cell_type": "code",
            "execution_count": 70,
            "metadata": {},
            "outputs": [
                {
                    "data": {
                        "text/html": "<div>\n<style scoped>\n    .dataframe tbody tr th:only-of-type {\n        vertical-align: middle;\n    }\n\n    .dataframe tbody tr th {\n        vertical-align: top;\n    }\n\n    .dataframe thead th {\n        text-align: right;\n    }\n</style>\n<table border=\"1\" class=\"dataframe\">\n  <thead>\n    <tr style=\"text-align: right;\">\n      <th></th>\n      <th>kp</th>\n      <th>sentence_text</th>\n      <th>match_score</th>\n      <th>comment_id</th>\n      <th>sentence_id</th>\n      <th>sents_in_comment</th>\n      <th>span_start</th>\n      <th>span_end</th>\n      <th>num_tokens</th>\n      <th>argument_quality</th>\n    </tr>\n  </thead>\n  <tbody>\n    <tr>\n      <th>646</th>\n      <td>Lumbar muscle strain and chronic back pain</td>\n      <td>Lumbar muscle strain and chronic back pain</td>\n      <td>1.0</td>\n      <td>705</td>\n      <td>0</td>\n      <td>1</td>\n      <td>0</td>\n      <td>43</td>\n      <td>7</td>\n      <td>0.582514</td>\n    </tr>\n  </tbody>\n</table>\n</div>",
                        "text/plain": "                                              kp  \\\n646   Lumbar muscle strain and chronic back pain   \n\n                                   sentence_text  match_score comment_id  \\\n646   Lumbar muscle strain and chronic back pain          1.0        705   \n\n     sentence_id  sents_in_comment  span_start  span_end  num_tokens  \\\n646            0                 1           0        43           7   \n\n     argument_quality  \n646          0.582514  "
                    },
                    "execution_count": 70,
                    "metadata": {},
                    "output_type": "execute_result"
                }
            ],
            "source": "match_df[match_df[\"sentence_text\"].apply(lambda x: x.find('Lumbar muscle strain and chronic back pain')>-1)]"
        },
        {
            "cell_type": "code",
            "execution_count": 76,
            "metadata": {},
            "outputs": [
                {
                    "name": "stdout",
                    "output_type": "stream",
                    "text": "(928, 10)\n(928, 13)\n"
                }
            ],
            "source": "# Merging the KPA results with related sentences from our input dataset\n\nprint(match_df.shape)\ndf_merge = match_df.merge(\n    df[[\"id\", \"id_description\", \"medical_specialty_new\"]],\n    left_on = \"comment_id\",\n    right_on = \"id\",\n    validate = \"one_to_one\")\nprint(df_merge.shape)"
        },
        {
            "cell_type": "code",
            "execution_count": 78,
            "metadata": {},
            "outputs": [
                {
                    "data": {
                        "text/html": "<div>\n<style scoped>\n    .dataframe tbody tr th:only-of-type {\n        vertical-align: middle;\n    }\n\n    .dataframe tbody tr th {\n        vertical-align: top;\n    }\n\n    .dataframe thead th {\n        text-align: right;\n    }\n</style>\n<table border=\"1\" class=\"dataframe\">\n  <thead>\n    <tr style=\"text-align: right;\">\n      <th></th>\n      <th>kp</th>\n      <th>sentence_text</th>\n      <th>match_score</th>\n      <th>comment_id</th>\n      <th>sentence_id</th>\n      <th>sents_in_comment</th>\n      <th>span_start</th>\n      <th>span_end</th>\n      <th>num_tokens</th>\n      <th>argument_quality</th>\n      <th>id</th>\n      <th>id_description</th>\n      <th>medical_specialty_new</th>\n    </tr>\n  </thead>\n  <tbody>\n    <tr>\n      <th>45</th>\n      <td>none</td>\n      <td>Anterior cervical decompression, anterior spi...</td>\n      <td>0.000000</td>\n      <td>1056</td>\n      <td>0</td>\n      <td>1</td>\n      <td>0</td>\n      <td>136</td>\n      <td>15</td>\n      <td>0.672675</td>\n      <td>1056</td>\n      <td>1013</td>\n      <td>Orthopedic</td>\n    </tr>\n    <tr>\n      <th>683</th>\n      <td>Lumbar muscle strain and chronic back pain</td>\n      <td>Bilateral degenerative arthritis of the knees</td>\n      <td>0.999704</td>\n      <td>1606</td>\n      <td>0</td>\n      <td>1</td>\n      <td>0</td>\n      <td>46</td>\n      <td>6</td>\n      <td>0.517437</td>\n      <td>1606</td>\n      <td>1313</td>\n      <td>Orthopedic</td>\n    </tr>\n    <tr>\n      <th>854</th>\n      <td>Urgent cardiac catheterization with coronary ...</td>\n      <td>Stress test with imaging for further classifi...</td>\n      <td>0.999424</td>\n      <td>273</td>\n      <td>0</td>\n      <td>1</td>\n      <td>0</td>\n      <td>73</td>\n      <td>11</td>\n      <td>0.689821</td>\n      <td>273</td>\n      <td>361</td>\n      <td>Radiology</td>\n    </tr>\n  </tbody>\n</table>\n</div>",
                        "text/plain": "                                                    kp  \\\n45                                                none   \n683         Lumbar muscle strain and chronic back pain   \n854   Urgent cardiac catheterization with coronary ...   \n\n                                         sentence_text  match_score  \\\n45    Anterior cervical decompression, anterior spi...     0.000000   \n683      Bilateral degenerative arthritis of the knees     0.999704   \n854   Stress test with imaging for further classifi...     0.999424   \n\n    comment_id  sentence_id  sents_in_comment  span_start  span_end  \\\n45        1056            0                 1           0       136   \n683       1606            0                 1           0        46   \n854        273            0                 1           0        73   \n\n     num_tokens  argument_quality    id id_description medical_specialty_new  \n45           15          0.672675  1056           1013            Orthopedic  \n683           6          0.517437  1606           1313            Orthopedic  \n854          11          0.689821   273            361             Radiology  "
                    },
                    "execution_count": 78,
                    "metadata": {},
                    "output_type": "execute_result"
                }
            ],
            "source": "df_merge.sample(3)"
        },
        {
            "cell_type": "code",
            "execution_count": 79,
            "metadata": {},
            "outputs": [
                {
                    "name": "stdout",
                    "output_type": "stream",
                    "text": "(928, 13)\n(432, 13)\n"
                },
                {
                    "data": {
                        "text/plain": " Possible inflammatory bowel disease                        150\n Lumbar muscle strain and chronic back pain                  99\n Risk factors for coronary heart disease.                    76\n Urgent cardiac catheterization with coronary angiogram.     61\n Hemoptysis and history of lung cancer                       46\nName: kp, dtype: int64"
                    },
                    "execution_count": 79,
                    "metadata": {},
                    "output_type": "execute_result"
                }
            ],
            "source": "# Removing any rows that have a key point \"none\", then compare the absolute size of each key point cluster\n\nprint(df_merge.shape)\ndf_clean = df_merge[df_merge[\"kp\"] != \"none\"]\nprint(df_clean.shape)\n\ndf_clean[\"kp\"].value_counts()"
        },
        {
            "cell_type": "code",
            "execution_count": 80,
            "metadata": {},
            "outputs": [],
            "source": "# Saving df_clean for the dashboard\n\nfile = 'df_clean.csv'\ndf_clean.to_csv(file)\nsto.upload_file(Bucket=bucket, Key=file, Filename=file)"
        },
        {
            "cell_type": "markdown",
            "metadata": {},
            "source": "#### Data Preparation for Term Wikifier ..."
        },
        {
            "cell_type": "code",
            "execution_count": 81,
            "metadata": {},
            "outputs": [],
            "source": "# Defining a function that uses the Term Wikifier service to map from a given medical transcription to a set of mentions in Wikipedia\n\ndef get_sentence_to_mentions (sentences_texts):\n    mentions_list = term_wikifier_client.run(sentences_texts)\n    sentence_to_mentions = {}\n\n    for sentence_text, mentions in zip(sentences_texts, mentions_list):\n        sentence_to_mentions[sentence_text] = set([\n            mention[\"concept\"][\"title\"]\n            for mention in mentions\n        ])\n    \n    return sentence_to_mentions"
        },
        {
            "cell_type": "code",
            "execution_count": 82,
            "metadata": {},
            "outputs": [
                {
                    "name": "stderr",
                    "output_type": "stream",
                    "text": "TermWikifierClient: 100%|\u2588\u2588\u2588\u2588\u2588\u2588\u2588\u2588\u2588\u2588| 61/61 [00:02<00:00, 30.22it/s]\nTermWikifierClient: 100%|\u2588\u2588\u2588\u2588\u2588\u2588\u2588\u2588\u2588\u2588| 99/99 [00:01<00:00, 95.22it/s]\nTermWikifierClient: 100%|\u2588\u2588\u2588\u2588\u2588\u2588\u2588\u2588\u2588\u2588| 46/46 [00:00<00:00, 48.37it/s]\nTermWikifierClient: 100%|\u2588\u2588\u2588\u2588\u2588\u2588\u2588\u2588\u2588\u2588| 76/76 [00:01<00:00, 72.30it/s]\nTermWikifierClient: 100%|\u2588\u2588\u2588\u2588\u2588\u2588\u2588\u2588\u2588\u2588| 150/150 [00:01<00:00, 143.21it/s]\n"
                }
            ],
            "source": "# Getting references in Wikipedia for each identified key point\n\nterms = {}\n\nfor kp in set(df_clean[\"kp\"].values):\n    \n    sentence_to_mentions = get_sentence_to_mentions(\n        df_clean[\"sentence_text\"][df_clean[\"kp\"] == kp].values\n    )\n    \n    all_mentions = []\n\n    for sentence in sentence_to_mentions:\n        for mention in sentence_to_mentions[sentence]:\n            all_mentions.append(mention)        \n\n    term_count = dict(Counter(all_mentions))\n    \n    if \"History\" in term_count.keys():\n        term_count.pop(\"History\")\n   \n    terms[kp] = term_count"
        },
        {
            "cell_type": "code",
            "execution_count": 88,
            "metadata": {},
            "outputs": [
                {
                    "data": {
                        "text/plain": "496                  Possible inflammatory bowel disease\n497     Comprehensive Evaluation - Diabetes, hyperten...\n498     Gastroesophageal reflux disease, hiatal herni...\n499     Pulmonary Medicine Clinic for followup evalua...\n500     Patient with a diagnosis of pancreatitis, dev...\n                             ...                        \n641     She sustained a concussion with postconcussiv...\n642               Diagnosis of benign rolandic epilepsy.\n643     Nasal septal deviation with bilateral inferio...\n644     The patient failed to improve satisfactorily ...\n645     Antral erythema; 2 cm polypoid pyloric channe...\nName: sentence_text, Length: 150, dtype: object"
                    },
                    "execution_count": 88,
                    "metadata": {},
                    "output_type": "execute_result"
                }
            ],
            "source": "df_clean[\"sentence_text\"][df_clean[\"kp\"] == kp] #foi passado isso para a fun\u00e7\u00e3o na \u00faltima itera\u00e7\u00e3o"
        },
        {
            "cell_type": "code",
            "execution_count": 89,
            "metadata": {},
            "outputs": [
                {
                    "data": {
                        "text/plain": "{' Possible inflammatory bowel disease': {'Inflammatory bowel disease'},\n ' Comprehensive Evaluation - Diabetes, hypertension, irritable bowel syndrome, and insomnia.': {'Diabetes',\n  'Hypertension',\n  'Insomnia',\n  'Irritable bowel syndrome'},\n ' Gastroesophageal reflux disease, hiatal hernia, and enterogastritis.': {'Gastroesophageal reflux disease',\n  'Hiatal hernia'},\n ' Pulmonary Medicine Clinic for followup evaluation of interstitial disease secondary to lupus pneumonitis.': {'Clinic',\n  'Disease',\n  'Evaluation',\n  'Lupus',\n  'Pneumonitis',\n  'Pulmonology'},\n ' Patient with a diagnosis of pancreatitis, developed hypotension and possible sepsis and respiratory, as well as renal failure.': {'Diagnosis',\n  'Hypotension',\n  'Kidney failure',\n  'Pancreatitis',\n  'Patient',\n  'Respiratory system',\n  'Sepsis'},\n ' Colonoscopy due to rectal bleeding, constipation, abnormal CT scan, rule out inflammatory bowel disease.': {'Abnormality (behavior)',\n  'CT scan',\n  'Colonoscopy',\n  'Constipation',\n  'Inflammatory bowel disease',\n  'Rectal bleeding'},\n ' Normal cystoscopy with atrophic vaginitis.': {'Atrophic vaginitis',\n  'Cystoscopy'},\n ' Sepsis due to urinary tract infection.': {'Sepsis',\n  'Urinary tract infection'},\n '  Malignant pleural effusion, left, with dyspnea.': {'Malignant pleural effusion',\n  'Shortness of breath'},\n ' Chronic pelvic inflammatory disease, pelvic adhesions, pelvic pain, fibroid uterus, and enterocele.': {'Adhesion',\n  'Chronic condition',\n  'Enterocele',\n  'Pelvic inflammatory disease',\n  'Pelvic pain',\n  'Pelvis',\n  'Uterine fibroid',\n  'Uterus'},\n ' Nausea, vomiting, diarrhea, and fever.': {'Diarrhea',\n  'Fever',\n  'Nausea',\n  'Vomiting'},\n ' Adenotonsillar hypertrophy and chronic otitis media': {'Chronic condition',\n  'Hypertrophy',\n  'Otitis media'},\n ' Sigmoidoscopy performed for evaluation of anemia, gastrointestinal Bleeding.': {'Anemia',\n  'Evaluation',\n  'Gastrointestinal bleeding',\n  'Sigmoidoscopy'},\n ' Laparoscopic cholecystectomy due to chronic cholecystitis and cholelithiasis.': {'Cholecystectomy',\n  'Cholecystitis',\n  'Chronic condition',\n  'Gallstone',\n  'Laparoscopy'},\n ' Patient has had biliary colic-type symptoms for the past 3-1/2 weeks, characterized by severe pain, and brought on by eating greasy foods.': {'Bile duct',\n  'Cooking oil',\n  'Eating',\n  'Food',\n  'Pain',\n  'Patient',\n  'Symptom'},\n ' This patient may have had reactive arthritis': {'Patient',\n  'Reactive arthritis'},\n ' Erythema of the right knee and leg, possible septic knee': {'Erythema',\n  'Knee',\n  'Leg',\n  'Septic shock'},\n ' Pelvic pain, pelvic endometriosis, and pelvic adhesions': {'Adhesion',\n  'Endometriosis',\n  'Pelvic pain',\n  'Pelvis'},\n ' The patient has had abdominal pain associated with a 30-pound weight loss and then developed jaundice': {'Abdominal pain',\n  'Jaundice',\n  'Patient',\n  'Weight loss'},\n ' Cadaveric renal transplant to right pelvis - endstage renal disease.': {'Cadaver',\n  'Kidney disease',\n  'Kidney transplantation',\n  'Pelvis'},\n ' Acute gangrenous cholecystitis with cholelithiasis': {'Acute (medicine)',\n  'Cholecystitis',\n  'Gallstone',\n  'Gangrene'},\n ' Gastrointestinal bleed and chronic inflammation of the mesentery of unknown etiology.': {'Etiology',\n  'Gastrointestinal bleeding',\n  'Mesentery',\n  'Systemic inflammation'},\n ' Generalized abdominal pain with swelling at the site of the ileostomy': {'Abdominal pain',\n  'Generalization',\n  'Ileostomy'},\n '  The patient had a history of peptic ulcer disease, epigastric abdominal pain x2 months, being evaluated at this time for ulcer disease.': {'Abdominal pain',\n  'Disease',\n  'Epigastrium',\n  'History',\n  'Patient',\n  'Peptic ulcer disease',\n  'Ulcer'},\n ' Chronic abdominal pain and heme positive stool, antral gastritis, and duodenal polyp': {'Abdominal pain',\n  'Antrum',\n  'Chronic condition',\n  'Duodenum',\n  'Gastritis',\n  'Heme',\n  'Polyp (medicine)'},\n ' Chronic cholecystitis, cholelithiasis, and liver cyst': {'Cholecystitis',\n  'Chronic condition',\n  'Cyst',\n  'Gallstone',\n  'Liver'},\n ' Lower quadrant pain with nausea, vomiting, and diarrhea': {'Diarrhea',\n  'Nausea',\n  'Pain',\n  'Quadrants and regions of abdomen',\n  'Vomiting'},\n ' Cellulitis with associated abscess and foreign body, right foot': {'Abscess',\n  'Cellulitis',\n  'Footedness',\n  'Foreign body'},\n ' Nausea and vomiting and upper abdominal pain.': {'Abdominal pain',\n  'Nausea',\n  'Vomiting'},\n ' Echodensity involving the aortic valve suggestive of endocarditis and vegetation': {'Aortic valve',\n  'Endocarditis',\n  'Vegetation'},\n ' Residual adenoid hypertrophy and recurrent epistaxis.': {'Adenoid hypertrophy',\n  'Nosebleed',\n  'Relapse'},\n ' Generalized abdominal pain, nausea, diarrhea, and recent colonic resection': {'Abdominal pain',\n  'Colon cleansing',\n  'Diarrhea',\n  'Generalization',\n  'Nausea',\n  'Position resection and intersection'},\n \" The patient's gallbladder had some patchy and necrosis areas\": {'Area',\n  'Gallbladder',\n  'Necrosis',\n  'Patient'},\n ' Hyperlipidemia, chronic renal insufficiency, and arthritis.': {'Arthritis',\n  'Chronic kidney disease',\n  'Hyperlipidemia'},\n ' Patient with active flare of Inflammatory Bowel Disease, not responsive to conventional therapy including sulfasalazine, cortisone, local therapy.': {'Conventional treatment',\n  'Cortisone',\n  'Flare',\n  'Inflammatory bowel disease',\n  'Patient',\n  'Sulfasalazine',\n  'Therapy'},\n ' Hyperglycemia, cholelithiasis, obstructive sleep apnea, diabetes mellitus, hypertension, and cholecystitis.': {'Cholecystitis',\n  'Diabetes',\n  'Gallstone',\n  'Hyperglycemia',\n  'Hypertension',\n  'Obstructive sleep apnea'},\n ' Abnormal liver enzymes and diarrhea': {'Abnormality (behavior)',\n  'Diarrhea',\n  'Liver function tests'},\n '  Acute pelvic inflammatory disease and periappendicitis': {'Acute (medicine)',\n  'Pelvic inflammatory disease'},\n ' She is a 79-year-old female who came in with acute cholecystitis and underwent attempted laparoscopic cholecystectomy 8 days ago': {'Cholecystectomy',\n  'Cholecystitis',\n  'Female',\n  'Laparoscopy'},\n ' Obstructive adenotonsillar hypertrophy with chronic recurrent pharyngitis.': {'Chronic condition',\n  'Hypertrophy',\n  'Pharyngitis'},\n ' Bronchoscopy for hypoxia and increasing pulmonary secretions': {'Bronchoscopy',\n  'Lung',\n  'Secretion'},\n ' Mild tracheobronchitis with history of granulomatous disease and TB, rule out active TB/miliary TB.': {'Dissemination',\n  'Granuloma',\n  'History',\n  'Tracheobronchitis'},\n ' Enlarged fibroid uterus, hypermenorrhea, and secondary anemia': {'Anemia',\n  'Heavy menstrual bleeding',\n  'Uterine fibroid',\n  'Uterus'},\n ' Esophagitis, minor stricture at the gastroesophageal junction, hiatal hernia': {'Esophageal stricture',\n  'Esophagitis',\n  'Hiatal hernia'},\n ' Mild diverticulosis of the sigmoid colon': {'Diverticulosis',\n  'Sigmoid colon'},\n '  Diffuse intestinal and mesenteric lymphangiectasia': {'Diffusion',\n  'Gastrointestinal tract',\n  'Lymphangiectasia',\n  'Mesentery'},\n ' Colonoscopy in a patient with prior history of anemia and abdominal bloating.': {'Anemia',\n  'Bloating',\n  'Colonoscopy',\n  'History',\n  'Patient'},\n ' Left facial cellulitis and possible odontogenic abscess': {'Abscess',\n  'Cellulitis',\n  'Facial',\n  'Human tooth development'},\n ' Probable right upper lobe lung adenocarcinoma': {'Adenocarcinoma of the lung',\n  'Lobe (anatomy)',\n  'Probability'},\n ' Small internal hemorrhoids and Ileal colonic anastomosis.': {'Anastomosis',\n  'Colon cleansing',\n  'Hemorrhoid',\n  'Ileum'},\n ' Posttransplant lymphoproliferative disorder, chronic renal insufficiency, squamous cell carcinoma of the skin, anemia secondary to chronic renal insufficiency and chemotherapy, and hypertension': {'Anemia',\n  'Chemotherapy',\n  'Chronic kidney disease',\n  'Hypertension',\n  'Lymphoproliferative disorders',\n  'Squamous cell skin cancer'},\n ' Benign prostatic hypertrophy and urinary retention': {'Benign prostatic hyperplasia',\n  'Urinary retention'},\n ' Enlarged fibroid uterus, pelvic pain, and pelvic endometriosis': {'Endometriosis',\n  'Pelvic pain',\n  'Pelvis',\n  'Uterine fibroid',\n  'Uterus'},\n ' Patient with swelling of lips and dysphagia and Arthritis.': {'Arthritis',\n  'Dysphagia',\n  'Lip',\n  'Patient'},\n ' Pelvic pain, hypermenorrhea, and mild pelvic endometriosis.': {'Endometriosis',\n  'Heavy menstrual bleeding',\n  'Pelvic pain',\n  'Pelvis'},\n ' Hypermenorrhea, uterine fibroids, pelvic pain, left adnexal mass, and pelvic adhesions.': {'Adhesion',\n  'Adnexal mass',\n  'Heavy menstrual bleeding',\n  'Pelvic pain',\n  'Pelvis',\n  'Uterine fibroid'},\n '  Chronic adenotonsillitis and ankyloglossia.': {'Ankyloglossia',\n  'Chronic condition'},\n ' The patient is a 35-year-old female with a history of a chronic pharyngitis and obstructive adenotonsillar hypertrophy': {'Female',\n  'History',\n  'Hypertrophy',\n  'Patient',\n  'Pharyngitis'},\n ' The patient had a workup for her gallbladder, which showed evidence of biliary dyskinesia.': {'Biliary dyskinesia',\n  'Evidence',\n  'Gallbladder',\n  'Patient',\n  'Work-up (chemistry)'},\n '  A CT scan of abdomen showed evidence of appendicitis with perforation': {'Abdomen',\n  'Appendicitis',\n  'CT scan',\n  'Evidence',\n  'Perforation'},\n ' Ventilator-dependent respiratory failure and laryngeal edema.': {'Edema',\n  'Respiratory failure'},\n ' Acute infected olecranon bursitis, left elbow.': {'Elbow',\n  'Olecranon bursitis'},\n ' Chronic obstructive pulmonary disease (COPD) exacerbation and acute bronchitis.': {'Acute bronchitis',\n  'Chronic obstructive pulmonary disease',\n  'Exacerbation'},\n '  Recurrent right inguinal hernia, as well as phimosis.': {'Inguinal hernia',\n  'Phimosis',\n  'Relapse'},\n ' Fever, otitis media, and possible sepsis.': {'Fever',\n  'Otitis media',\n  'Sepsis'},\n '  Chronic pelvic pain, probably secondary to endometriosis.': {'Endometriosis',\n  'Pelvic pain'},\n ' Bronchiolitis, respiratory syncytial virus positive; improved and stable': {'Bronchiolitis',\n  'Respiratory syncytial virus'},\n ' Colovesical fistula and intraperitoneal abscess.': {'Abscess',\n  'Fistula',\n  'Peritoneum'},\n '  Menometrorrhagia, dysmenorrhea, and small uterine fibroids.': {'Dysmenorrhea',\n  'Menometrorrhagia',\n  'Uterine fibroid'},\n ' Intermittent rectal bleeding with abdominal pain.': {'Abdominal pain',\n  'Intermittency',\n  'Rectal bleeding'},\n ' Normal colonoscopy, left colonic diverticular disease': {'Colon cleansing',\n  'Colonoscopy',\n  'Diverticular disease'},\n ' Herniated nucleus pulposus, C5-C6, with spinal stenosis': {'Spinal disc herniation',\n  'Spinal stenosis'},\n ' Sigmoid diverticulosis and internal hemorrhoids.': {'Diverticulosis',\n  'Hemorrhoid'},\n ' History of congestion, possibly enlarged adenoids': {'Adenoid',\n  'History',\n  'Nasal congestion'},\n ' Chronic tonsillitis with symptomatic tonsil and adenoid hypertrophy': {'Adenoid hypertrophy',\n  'Tonsil',\n  'Tonsillitis'},\n ' Patient with intermittent episodes of severe nausea and abdominal pain.': {'Abdominal pain',\n  'Intermittency',\n  'Nausea',\n  'Patient'},\n ' The patient is a 58-year-old female with poorly controlled diabetes with severe lower extremity lymphedema': {'Diabetes',\n  'Female',\n  'Human leg',\n  'Lymphedema',\n  'Patient'},\n ' The patient has had previous I&D but continues to have to purulent drainage': {'Drainage',\n  'Incision and drainage',\n  'Patient',\n  'Pus'},\n 'The patient is a 52-year-old female morbidly obese black female who has a long history of reflux and GERD type symptoms including complications such as hoarseness and chronic cough.': {'Black people',\n  'Chronic cough',\n  'Complication (medicine)',\n  'Female',\n  'Gastroesophageal reflux disease',\n  'History',\n  'Hoarse voice',\n  'Obesity-associated morbidity',\n  'Patient',\n  'Reflux',\n  'Symptom'},\n ' Acute bronchitis with reactive airway disease.': {'Acute bronchitis',\n  'Reactive airway disease'},\n ' Hematochezia, refractory dyspepsia, colonic polyps at 35 cm and 15 cm, diverticulosis coli, and acute and chronic gastritis.\\r\\n': {'Acute (medicine)',\n  'Chronic condition',\n  'Colorectal polyp',\n  'Diverticulosis',\n  'Gastritis',\n  'Hematochezia',\n  'Indigestion',\n  'Refractory'},\n ' Hyperpyrexia/leukocytosis, ventilator-dependent respiratory failure, and acute pancreatitis.': {'Acute pancreatitis',\n  'Fever',\n  'Leukocytosis',\n  'Respiratory failure'},\n ' Cervical spondylosis and kyphotic deformity': {'Deformity',\n  'Kyphosis',\n  'Spondylosis'},\n ' Spinal Manipulation under Anesthesia - Sacro-iliitis, lumbo-sacral segmental dysfunction, thoraco-lumbar segmental dysfunction, associated with myalgia/fibromyositis.': {'Fibromyalgia',\n  'Manipulation under anesthesia',\n  'Myalgia',\n  'Sacroiliitis',\n  'Vertebral column'},\n ' Right-sided abdominal pain with nausea and fever': {'Abdominal pain',\n  'Fever',\n  'Nausea'},\n ' Urinary retention and benign prostate hypertrophy': {'Benign prostatic hyperplasia',\n  'Benignity',\n  'Urinary retention'},\n '  Bilateral upper lobe cavitary lung masses': {'Lobe (anatomy)',\n  'Lung',\n  'Masse'},\n \"Left carpal tunnel syndrome and de Quervain's tenosynovitis.\": {'Carpal tunnel syndrome',\n  'De Quervain syndrome'},\n ' Diagnosis of bulbar cerebral palsy and hypotonia': {'Cerebral palsy',\n  'Diagnosis',\n  'Hypotonia',\n  'Medulla oblongata'},\n ' The patient was found to have a left inguinal hernia increasing over the past several months': {'Inguinal hernia',\n  'Patient'},\n ' Acute small bowel obstruction and incarcerated umbilical Hernia.': {'Acute (medicine)',\n  'Bowel obstruction',\n  'Small intestine',\n  'Umbilical hernia'},\n ' Chronic lymphocytic leukemia (CLL), autoimmune hemolytic anemia, and oral ulcer': {'Autoimmune hemolytic anemia',\n  'Chronic lymphocytic leukemia',\n  'Mouth ulcer'},\n ' Carpal tunnel syndrome suspected.': {'Carpal tunnel syndrome'},\n ' Complex open wound right lower extremity complicated by a methicillin-resistant staphylococcus aureus cellulitis': {'Cellulitis',\n  'Human leg',\n  'Methicillin-resistant Staphylococcus aureus',\n  'Wound'},\n \" Gastroesophageal reflux disease, chronic dyspepsia, alkaline reflux gastritis, gastroparesis, probable Billroth II anastomosis, and status post Whipple's pancreaticoduodenectomy.\": {'Alkali',\n  'Anastomosis',\n  'Billroth II',\n  'Gastritis',\n  'Gastroesophageal reflux disease',\n  'Gastroparesis',\n  'Indigestion',\n  'Pancreaticoduodenectomy',\n  'Probability',\n  'Reflux',\n  'Sequela'},\n ' Carbon dioxide laser photo-ablation due to recurrent dysplasia of vulva.': {'Carbon dioxide laser',\n  'Dysplasia',\n  'Laser ablation'},\n ' Atypical pneumonia, hypoxia, rheumatoid arthritis, and suspected mild stress-induced adrenal insufficiency': {'Adrenal insufficiency',\n  'Atypical pneumonia',\n  'Mild ale',\n  'Rheumatoid arthritis'},\n ' Pelvic tumor, cystocele, rectocele, and uterine fibroid': {'Cystocele',\n  'Pelvic tumor',\n  'Rectocele',\n  'Uterine fibroid'},\n ' Multiple extensive subcutaneous abscesses, right thigh': {'Abscess',\n  'Subcutaneous tissue',\n  'Thigh'},\n ' A thin-slice CT scan was performed, which revealed a pancreatic mass with involved lymph nodes and ring enhancing lesions consistent with liver metastases': {'CT scan',\n  'Consistency',\n  'Lymph node',\n  'Metastatic liver disease',\n  'Pancreatic tumor',\n  'Ring-enhancing lesion'},\n ' The patient is an 11-year-old male who was admitted from the ER after a CT scan suggested that the child had mastoiditis': {'CT scan',\n  'Child',\n  'Emergency department',\n  'Male',\n  'Mastoiditis',\n  'Patient'},\n ' Chronic glossitis, xerostomia, probable environmental inhalant allergies, probable food allergies, and history of asthma.': {'Allergy',\n  'Asthma',\n  'Food allergy',\n  'Glossitis',\n  'History',\n  'Inhalant',\n  'Probability',\n  'Xerostomia'},\n ' The patient was admitted after undergoing a drawn out process with a small bowel obstruction.': {'Patient',\n  'Process',\n  'Small intestine'},\n ' A diabetic male in urinary retention with apparent neurogenic bladder and intermittent self-catheterization, recent urinary tract infections': {'Diabetes',\n  'Intermittency',\n  'Male',\n  'Neurogenic bladder dysfunction',\n  'Urinary catheterization',\n  'Urinary retention',\n  'Urinary tract infection'},\n ' Left pleural effusion, parapneumonic, loculated': {'Pleural effusion'},\n ' Gangrene osteomyelitis, right second toe': {'Gangrene',\n  'Osteomyelitis',\n  'Toe'},\n ' An endoscopy is being done to evaluate for source of upper GI bleeding.': {'Endoscopy',\n  'Gastrointestinal bleeding'},\n ' Atrophic laryngeal changes secondary to inhaled steroid use.': {'Atrophy',\n  'Corticosteroid'},\n ' The patient is noted to have an increase in her liver function tests on routine blood work': {'Blood test',\n  'Liver function tests',\n  'Patient'},\n ' Chest pain, possible syncopal spells': {'Chest pain'},\n ' Right axillary adenopathy, thrombocytopenia, and hepatosplenomegaly': {'Axillary lymphadenopathy',\n  'Hepatosplenomegaly',\n  'Thrombocytopenia'},\n ' Upper respiratory tract infection, persistent': {'Upper respiratory tract infection'},\n ' No evidence of inflammation or narrowing to explain her symptoms.': {'Evidence',\n  'Inflammation',\n  'Symptom'},\n ' The patient is a 76-year-old male, with previous history of dysphagia, status post stroke': {'Dysphagia',\n  'History',\n  'Male',\n  'Patient',\n  'Sequela',\n  'Stroke'},\n ' Mild-to-moderate obstructive ventilatory impairment': {'Disability'},\n ' The patient is a 9-year-old Caucasian male with history of recurrent episodes of adenotonsillitis that has been refractory to outpatient antibiotic therapy': {'Antibiotic',\n  'History',\n  'Male',\n  'Patient',\n  'Refractory',\n  'White people'},\n ' Right ureteropelvic junction obstruction, severe intraabdominal adhesions, and retroperitoneal fibrosis.': {'Adhesion',\n  'Retroperitoneal fibrosis',\n  'Ureter'},\n ' Pyogenic granuloma, left lateral thigh': {'Pyogenic granuloma', 'Thigh'},\n ' He has had an elevated PSA and also has erectile dysfunction': {'Elevated railway',\n  'Erectile dysfunction'},\n ' Ultrasound of the abdomen showed gallbladder sludge and gallbladder findings consistent with adenomyomatosis': {'Abdomen',\n  'Adenomyomatosis',\n  'Biliary sludge',\n  'Consistency',\n  'Gallbladder',\n  'Ultrasound'},\n ' Pyelonephritis likely secondary to mucous plugging of indwelling Foley in the ileal conduit, hypertension, mild renal insufficiency, and anemia, which has been present chronically over the past year.': {'Anemia',\n  'Chronic kidney disease',\n  'Hypertension',\n  'Ileal conduit urinary diversion',\n  'Mucus',\n  'Pyelonephritis'},\n ' Acute supraglottitis with airway obstruction and parapharyngeal cellulitis and peritonsillar cellulitis.': {'Acute (medicine)',\n  'Airway obstruction',\n  'Cellulitis',\n  'Epiglottitis'},\n ' Chronic eustachian tube dysfunction, chronic otitis media with effusion, recurrent acute otitis media, adenoid hypertrophy.': {'Adenoid hypertrophy',\n  'Chronic condition',\n  'Effusion',\n  'Eustachian tube dysfunction',\n  'Otitis media'},\n ' A female with a history of severe dysmenorrhea and menorrhagia unimproved with medical management.': {'Dysmenorrhea',\n  'Female',\n  'Health administration',\n  'Heavy menstrual bleeding',\n  'History',\n  'Road surface'},\n ' Acute appendicitis with perforation': {'Appendicitis', 'Perforation'},\n ' Physical exam confirmed obvious hydrocele, left scrotum.': {'Hydrocele',\n  'Inventive step and non-obviousness',\n  'Physical examination',\n  'Scrotum'},\n ' Patient presented with symptoms of pneumonia and developed rapid sepsis and respiratory failure requiring intubation.': {'Intubation',\n  'Patient',\n  'Pneumonia',\n  'Respiratory failure',\n  'Sepsis',\n  'Symptom'},\n ' End-stage renal disease with need for a long-term hemodialysis access': {'Hemodialysis',\n  'Kidney failure',\n  'Term (time)'},\n ' Malnutrition and dysphagia with two antral polyps and large hiatal hernia.': {'Antrum',\n  'Dysphagia',\n  'Hiatal hernia',\n  'Malnutrition',\n  'Polyp (zoology)'},\n ' Video laparoscopy revealed dense omental adhesions surrounding the gallbladder circumferentially': {'Adhesion',\n  'Density',\n  'Gallbladder',\n  'Laparoscopy',\n  'Video'},\n ' The patient had the appropriate inflammatory workup for pericardial effusion, however, it was nondiagnostic.': {'Inflammation',\n  'Patient',\n  'Pericardial effusion',\n  'Work-up (chemistry)'},\n ' This involved cough, post-tussive emesis, and questionable fever.': {'Cough',\n  'Fever',\n  'Question',\n  'Vomiting'},\n ' 3-1/2-year-old presents with bilateral scrotal swellings consistent with bilateral inguinal hernias.': {'Consistency',\n  'Inguinal hernia',\n  'Scrotum'},\n ' Protein-calorie malnutrition, intractable nausea, vomiting, and dysphagia, and enterogastritis.': {'Dysphagia',\n  'Nausea',\n  'Protein\u2013energy malnutrition',\n  'Vomiting'},\n ' Upper respiratory illness with apnea, possible pertussis': {'Apnea',\n  'Respiratory disease',\n  'Whooping cough'},\n ' Dysphagia with no signs of piriform sinus pooling or aspiration': {'Dysphagia',\n  'No symbol',\n  'Pyriform sinus'},\n ' Her postoperative course has been lengthened due to a prolonged ileus, which resolved with tetracycline and Reglan': {'Ileus',\n  'Metoclopramide',\n  'Tetracycline'},\n ' The patient was discovered to have a MRSA bacteremia with elevated fever and had tenderness at the anterior chest wall where his Perm-A-Cath was situated.': {'Bloodstream infections',\n  'Elevated railway',\n  'Fever',\n  'Methicillin-resistant Staphylococcus aureus',\n  'Patient',\n  'Thoracic wall'},\n ' The patient is a 60-year-old female patient who off and on for the past 10 to 12 months has had almost daily diarrhea, nausea, inability to eat': {'Diarrhea',\n  'Dysphagia',\n  'Female',\n  'Nausea',\n  'Patient'},\n ' A CAT scan of the abdomen and pelvis was obtained revealing findings consistent with acute appendicitis': {'Abdomen',\n  'Appendicitis',\n  'CT scan',\n  'Consistency',\n  'Pelvis'},\n '  Excision of recurrent pyogenic granuloma.': {'Pyogenic granuloma'},\n ' Laparoscopy with ablation of endometriosis': {'Ablation',\n  'Endometriosis',\n  'Laparoscopy'},\n ' Upper endoscopy, patient with dysphagia.': {'Dysphagia',\n  'Esophagogastroduodenoscopy',\n  'Patient'},\n ' Transurethral electrosurgical resection of the prostate for benign prostatic hyperplasia.': {'Benign prostatic hyperplasia',\n  'Electrosurgery',\n  'Prostate',\n  'Segmental resection'},\n ' Bilateral l5 spondylolysis with pars defects and spinal instability with radiculopathy': {'Bilateralism',\n  'Instability',\n  'Radiculopathy',\n  'Spondylolysis'},\n ' She sustained a concussion with postconcussive symptoms and syndrome that has resolved': {'Concussion',\n  'Symptom',\n  'Syndrome'},\n ' Diagnosis of benign rolandic epilepsy.': {'Diagnosis', 'Rolandic epilepsy'},\n ' Nasal septal deviation with bilateral inferior turbinate hypertrophy': {'Hypertrophy',\n  'Inferior nasal concha',\n  'Midline shift'},\n ' The patient failed to improve satisfactorily on conservative care, including anti-inflammatory medications and night splints.': {'Anti-inflammatory',\n  'Conservative management',\n  'Night',\n  'Patient',\n  'Splints'},\n ' Antral erythema; 2 cm polypoid pyloric channel tissue, questionable inflammatory polyp which was biopsied; duodenal erythema and erosion.': {'Antrum',\n  'Biopsy',\n  'Duodenum',\n  'Erosion',\n  'Erythema',\n  'Polyp (medicine)',\n  'Polyploidy',\n  'Pylorus',\n  'Question',\n  'Tissue (biology)'}}"
                    },
                    "execution_count": 89,
                    "metadata": {},
                    "output_type": "execute_result"
                }
            ],
            "source": "sentence_to_mentions #foi retornado isso na \u00faltima itera\u00e7\u00e3o"
        },
        {
            "cell_type": "code",
            "execution_count": 90,
            "metadata": {},
            "outputs": [
                {
                    "data": {
                        "text/plain": "['Inflammatory bowel disease',\n 'Hypertension',\n 'Diabetes',\n 'Insomnia',\n 'Irritable bowel syndrome',\n 'Hiatal hernia',\n 'Gastroesophageal reflux disease',\n 'Lupus',\n 'Pulmonology',\n 'Evaluation',\n 'Pneumonitis',\n 'Clinic',\n 'Disease',\n 'Hypotension',\n 'Respiratory system',\n 'Kidney failure',\n 'Patient',\n 'Sepsis',\n 'Pancreatitis',\n 'Diagnosis',\n 'CT scan',\n 'Abnormality (behavior)',\n 'Inflammatory bowel disease',\n 'Rectal bleeding',\n 'Constipation',\n 'Colonoscopy',\n 'Atrophic vaginitis',\n 'Cystoscopy',\n 'Urinary tract infection',\n 'Sepsis',\n 'Shortness of breath',\n 'Malignant pleural effusion',\n 'Pelvic pain',\n 'Uterus',\n 'Enterocele',\n 'Adhesion',\n 'Uterine fibroid',\n 'Chronic condition',\n 'Pelvis',\n 'Pelvic inflammatory disease',\n 'Vomiting',\n 'Diarrhea',\n 'Fever',\n 'Nausea',\n 'Hypertrophy',\n 'Otitis media',\n 'Chronic condition',\n 'Sigmoidoscopy',\n 'Evaluation',\n 'Anemia',\n 'Gastrointestinal bleeding',\n 'Laparoscopy',\n 'Cholecystectomy',\n 'Chronic condition',\n 'Gallstone',\n 'Cholecystitis',\n 'Bile duct',\n 'Symptom',\n 'Eating',\n 'Cooking oil',\n 'Patient',\n 'Food',\n 'Pain',\n 'Patient',\n 'Reactive arthritis',\n 'Erythema',\n 'Septic shock',\n 'Leg',\n 'Knee',\n 'Pelvic pain',\n 'Endometriosis',\n 'Adhesion',\n 'Pelvis',\n 'Jaundice',\n 'Patient',\n 'Weight loss',\n 'Abdominal pain',\n 'Kidney transplantation',\n 'Kidney disease',\n 'Cadaver',\n 'Pelvis',\n 'Gallstone',\n 'Gangrene',\n 'Acute (medicine)',\n 'Cholecystitis',\n 'Etiology',\n 'Systemic inflammation',\n 'Mesentery',\n 'Gastrointestinal bleeding',\n 'Generalization',\n 'Ileostomy',\n 'Abdominal pain',\n 'Epigastrium',\n 'Ulcer',\n 'Patient',\n 'Abdominal pain',\n 'History',\n 'Disease',\n 'Peptic ulcer disease',\n 'Polyp (medicine)',\n 'Gastritis',\n 'Antrum',\n 'Duodenum',\n 'Heme',\n 'Abdominal pain',\n 'Chronic condition',\n 'Cyst',\n 'Liver',\n 'Chronic condition',\n 'Gallstone',\n 'Cholecystitis',\n 'Quadrants and regions of abdomen',\n 'Diarrhea',\n 'Vomiting',\n 'Pain',\n 'Nausea',\n 'Abscess',\n 'Foreign body',\n 'Cellulitis',\n 'Footedness',\n 'Vomiting',\n 'Abdominal pain',\n 'Nausea',\n 'Endocarditis',\n 'Aortic valve',\n 'Vegetation',\n 'Nosebleed',\n 'Relapse',\n 'Adenoid hypertrophy',\n 'Diarrhea',\n 'Generalization',\n 'Abdominal pain',\n 'Colon cleansing',\n 'Position resection and intersection',\n 'Nausea',\n 'Gallbladder',\n 'Necrosis',\n 'Area',\n 'Patient',\n 'Hyperlipidemia',\n 'Arthritis',\n 'Chronic kidney disease',\n 'Conventional treatment',\n 'Flare',\n 'Therapy',\n 'Sulfasalazine',\n 'Inflammatory bowel disease',\n 'Cortisone',\n 'Patient',\n 'Obstructive sleep apnea',\n 'Diabetes',\n 'Hyperglycemia',\n 'Hypertension',\n 'Gallstone',\n 'Cholecystitis',\n 'Liver function tests',\n 'Diarrhea',\n 'Abnormality (behavior)',\n 'Pelvic inflammatory disease',\n 'Acute (medicine)',\n 'Laparoscopy',\n 'Cholecystectomy',\n 'Female',\n 'Cholecystitis',\n 'Hypertrophy',\n 'Pharyngitis',\n 'Chronic condition',\n 'Bronchoscopy',\n 'Secretion',\n 'Lung',\n 'Granuloma',\n 'History',\n 'Dissemination',\n 'Tracheobronchitis',\n 'Uterus',\n 'Heavy menstrual bleeding',\n 'Anemia',\n 'Uterine fibroid',\n 'Esophagitis',\n 'Hiatal hernia',\n 'Esophageal stricture',\n 'Diverticulosis',\n 'Sigmoid colon',\n 'Gastrointestinal tract',\n 'Diffusion',\n 'Mesentery',\n 'Lymphangiectasia',\n 'Bloating',\n 'Patient',\n 'History',\n 'Colonoscopy',\n 'Anemia',\n 'Abscess',\n 'Human tooth development',\n 'Facial',\n 'Cellulitis',\n 'Adenocarcinoma of the lung',\n 'Probability',\n 'Lobe (anatomy)',\n 'Ileum',\n 'Hemorrhoid',\n 'Anastomosis',\n 'Colon cleansing',\n 'Hypertension',\n 'Chronic kidney disease',\n 'Chemotherapy',\n 'Lymphoproliferative disorders',\n 'Squamous cell skin cancer',\n 'Anemia',\n 'Benign prostatic hyperplasia',\n 'Urinary retention',\n 'Pelvic pain',\n 'Uterus',\n 'Uterine fibroid',\n 'Pelvis',\n 'Endometriosis',\n 'Patient',\n 'Dysphagia',\n 'Lip',\n 'Arthritis',\n 'Pelvic pain',\n 'Endometriosis',\n 'Heavy menstrual bleeding',\n 'Pelvis',\n 'Pelvic pain',\n 'Adhesion',\n 'Uterine fibroid',\n 'Adnexal mass',\n 'Pelvis',\n 'Heavy menstrual bleeding',\n 'Ankyloglossia',\n 'Chronic condition',\n 'Hypertrophy',\n 'Female',\n 'Patient',\n 'Pharyngitis',\n 'History',\n 'Gallbladder',\n 'Biliary dyskinesia',\n 'Evidence',\n 'Patient',\n 'Work-up (chemistry)',\n 'CT scan',\n 'Evidence',\n 'Appendicitis',\n 'Abdomen',\n 'Perforation',\n 'Respiratory failure',\n 'Edema',\n 'Olecranon bursitis',\n 'Elbow',\n 'Chronic obstructive pulmonary disease',\n 'Acute bronchitis',\n 'Exacerbation',\n 'Inguinal hernia',\n 'Phimosis',\n 'Relapse',\n 'Fever',\n 'Sepsis',\n 'Otitis media',\n 'Pelvic pain',\n 'Endometriosis',\n 'Respiratory syncytial virus',\n 'Bronchiolitis',\n 'Peritoneum',\n 'Fistula',\n 'Abscess',\n 'Dysmenorrhea',\n 'Menometrorrhagia',\n 'Uterine fibroid',\n 'Rectal bleeding',\n 'Intermittency',\n 'Abdominal pain',\n 'Diverticular disease',\n 'Colonoscopy',\n 'Colon cleansing',\n 'Spinal disc herniation',\n 'Spinal stenosis',\n 'Diverticulosis',\n 'Hemorrhoid',\n 'Adenoid',\n 'History',\n 'Nasal congestion',\n 'Tonsillitis',\n 'Adenoid hypertrophy',\n 'Tonsil',\n 'Abdominal pain',\n 'Patient',\n 'Intermittency',\n 'Nausea',\n 'Diabetes',\n 'Lymphedema',\n 'Human leg',\n 'Female',\n 'Patient',\n 'Drainage',\n 'Pus',\n 'Patient',\n 'Incision and drainage',\n 'Hoarse voice',\n 'Complication (medicine)',\n 'Reflux',\n 'Obesity-associated morbidity',\n 'Symptom',\n 'Black people',\n 'Female',\n 'Patient',\n 'Gastroesophageal reflux disease',\n 'History',\n 'Chronic cough',\n 'Reactive airway disease',\n 'Acute bronchitis',\n 'Acute (medicine)',\n 'Hematochezia',\n 'Gastritis',\n 'Refractory',\n 'Chronic condition',\n 'Diverticulosis',\n 'Colorectal polyp',\n 'Indigestion',\n 'Leukocytosis',\n 'Respiratory failure',\n 'Acute pancreatitis',\n 'Fever',\n 'Spondylosis',\n 'Kyphosis',\n 'Deformity',\n 'Manipulation under anesthesia',\n 'Vertebral column',\n 'Sacroiliitis',\n 'Myalgia',\n 'Fibromyalgia',\n 'Nausea',\n 'Fever',\n 'Abdominal pain',\n 'Urinary retention',\n 'Benign prostatic hyperplasia',\n 'Benignity',\n 'Lobe (anatomy)',\n 'Lung',\n 'Masse',\n 'Carpal tunnel syndrome',\n 'De Quervain syndrome',\n 'Cerebral palsy',\n 'Medulla oblongata',\n 'Diagnosis',\n 'Hypotonia',\n 'Patient',\n 'Inguinal hernia',\n 'Bowel obstruction',\n 'Umbilical hernia',\n 'Acute (medicine)',\n 'Small intestine',\n 'Autoimmune hemolytic anemia',\n 'Mouth ulcer',\n 'Chronic lymphocytic leukemia',\n 'Carpal tunnel syndrome',\n 'Methicillin-resistant Staphylococcus aureus',\n 'Human leg',\n 'Cellulitis',\n 'Wound',\n 'Sequela',\n 'Gastroparesis',\n 'Reflux',\n 'Anastomosis',\n 'Alkali',\n 'Gastritis',\n 'Probability',\n 'Gastroesophageal reflux disease',\n 'Pancreaticoduodenectomy',\n 'Billroth II',\n 'Indigestion',\n 'Dysplasia',\n 'Carbon dioxide laser',\n 'Laser ablation',\n 'Rheumatoid arthritis',\n 'Mild ale',\n 'Atypical pneumonia',\n 'Adrenal insufficiency',\n 'Pelvic tumor',\n 'Rectocele',\n 'Cystocele',\n 'Uterine fibroid',\n 'Abscess',\n 'Thigh',\n 'Subcutaneous tissue',\n 'Ring-enhancing lesion',\n 'Consistency',\n 'CT scan',\n 'Metastatic liver disease',\n 'Pancreatic tumor',\n 'Lymph node',\n 'CT scan',\n 'Patient',\n 'Male',\n 'Mastoiditis',\n 'Emergency department',\n 'Child',\n 'Inhalant',\n 'Glossitis',\n 'Allergy',\n 'Probability',\n 'Food allergy',\n 'History',\n 'Asthma',\n 'Xerostomia',\n 'Process',\n 'Patient',\n 'Small intestine',\n 'Urinary retention',\n 'Diabetes',\n 'Neurogenic bladder dysfunction',\n 'Urinary catheterization',\n 'Intermittency',\n 'Urinary tract infection',\n 'Male',\n 'Pleural effusion',\n 'Osteomyelitis',\n 'Gangrene',\n 'Toe',\n 'Endoscopy',\n 'Gastrointestinal bleeding',\n 'Atrophy',\n 'Corticosteroid',\n 'Liver function tests',\n 'Patient',\n 'Blood test',\n 'Chest pain',\n 'Axillary lymphadenopathy',\n 'Hepatosplenomegaly',\n 'Thrombocytopenia',\n 'Upper respiratory tract infection',\n 'Symptom',\n 'Evidence',\n 'Inflammation',\n 'Sequela',\n 'Stroke',\n 'Patient',\n 'Male',\n 'History',\n 'Dysphagia',\n 'Disability',\n 'Patient',\n 'Refractory',\n 'History',\n 'Male',\n 'Antibiotic',\n 'White people',\n 'Retroperitoneal fibrosis',\n 'Ureter',\n 'Adhesion',\n 'Thigh',\n 'Pyogenic granuloma',\n 'Elevated railway',\n 'Erectile dysfunction',\n 'Gallbladder',\n 'Ultrasound',\n 'Consistency',\n 'Adenomyomatosis',\n 'Biliary sludge',\n 'Abdomen',\n 'Ileal conduit urinary diversion',\n 'Hypertension',\n 'Chronic kidney disease',\n 'Mucus',\n 'Pyelonephritis',\n 'Anemia',\n 'Cellulitis',\n 'Airway obstruction',\n 'Epiglottitis',\n 'Acute (medicine)',\n 'Adenoid hypertrophy',\n 'Eustachian tube dysfunction',\n 'Otitis media',\n 'Chronic condition',\n 'Effusion',\n 'Health administration',\n 'Dysmenorrhea',\n 'Road surface',\n 'Female',\n 'History',\n 'Heavy menstrual bleeding',\n 'Appendicitis',\n 'Perforation',\n 'Scrotum',\n 'Physical examination',\n 'Inventive step and non-obviousness',\n 'Hydrocele',\n 'Respiratory failure',\n 'Intubation',\n 'Symptom',\n 'Patient',\n 'Sepsis',\n 'Pneumonia',\n 'Hemodialysis',\n 'Kidney failure',\n 'Term (time)',\n 'Malnutrition',\n 'Hiatal hernia',\n 'Antrum',\n 'Polyp (zoology)',\n 'Dysphagia',\n 'Laparoscopy',\n 'Gallbladder',\n 'Adhesion',\n 'Density',\n 'Video',\n 'Pericardial effusion',\n 'Patient',\n 'Work-up (chemistry)',\n 'Inflammation',\n 'Fever',\n 'Question',\n 'Cough',\n 'Vomiting',\n 'Scrotum',\n 'Consistency',\n 'Inguinal hernia',\n 'Nausea',\n 'Vomiting',\n 'Dysphagia',\n 'Protein\u2013energy malnutrition',\n 'Apnea',\n 'Respiratory disease',\n 'Whooping cough',\n 'Pyriform sinus',\n 'Dysphagia',\n 'No symbol',\n 'Metoclopramide',\n 'Tetracycline',\n 'Ileus',\n 'Thoracic wall',\n 'Methicillin-resistant Staphylococcus aureus',\n 'Bloodstream infections',\n 'Patient',\n 'Elevated railway',\n 'Fever',\n 'Diarrhea',\n 'Female',\n 'Patient',\n 'Dysphagia',\n 'Nausea',\n 'Consistency',\n 'CT scan',\n 'Pelvis',\n 'Appendicitis',\n 'Abdomen',\n 'Pyogenic granuloma',\n 'Laparoscopy',\n 'Endometriosis',\n 'Ablation',\n 'Esophagogastroduodenoscopy',\n 'Dysphagia',\n 'Patient',\n 'Prostate',\n 'Benign prostatic hyperplasia',\n 'Electrosurgery',\n 'Segmental resection',\n 'Instability',\n 'Radiculopathy',\n 'Bilateralism',\n 'Spondylolysis',\n 'Syndrome',\n 'Symptom',\n 'Concussion',\n 'Rolandic epilepsy',\n 'Diagnosis',\n 'Inferior nasal concha',\n 'Hypertrophy',\n 'Midline shift',\n 'Splints',\n 'Anti-inflammatory',\n 'Night',\n 'Conservative management',\n 'Patient',\n 'Pylorus',\n 'Polyp (medicine)',\n 'Tissue (biology)',\n 'Antrum',\n 'Erosion',\n 'Duodenum',\n 'Biopsy',\n 'Erythema',\n 'Question',\n 'Polyploidy']"
                    },
                    "execution_count": 90,
                    "metadata": {},
                    "output_type": "execute_result"
                }
            ],
            "source": "all_mentions #esses foram os termos capturados da ultima iteracao"
        },
        {
            "cell_type": "code",
            "execution_count": 92,
            "metadata": {},
            "outputs": [
                {
                    "data": {
                        "text/plain": "{'Inflammatory bowel disease': 3,\n 'Hypertension': 4,\n 'Diabetes': 4,\n 'Insomnia': 1,\n 'Irritable bowel syndrome': 1,\n 'Hiatal hernia': 3,\n 'Gastroesophageal reflux disease': 3,\n 'Lupus': 1,\n 'Pulmonology': 1,\n 'Evaluation': 2,\n 'Pneumonitis': 1,\n 'Clinic': 1,\n 'Disease': 2,\n 'Hypotension': 1,\n 'Respiratory system': 1,\n 'Kidney failure': 2,\n 'Patient': 27,\n 'Sepsis': 4,\n 'Pancreatitis': 1,\n 'Diagnosis': 3,\n 'CT scan': 5,\n 'Abnormality (behavior)': 2,\n 'Rectal bleeding': 2,\n 'Constipation': 1,\n 'Colonoscopy': 3,\n 'Atrophic vaginitis': 1,\n 'Cystoscopy': 1,\n 'Urinary tract infection': 2,\n 'Shortness of breath': 1,\n 'Malignant pleural effusion': 1,\n 'Pelvic pain': 6,\n 'Uterus': 3,\n 'Enterocele': 1,\n 'Adhesion': 5,\n 'Uterine fibroid': 6,\n 'Chronic condition': 9,\n 'Pelvis': 7,\n 'Pelvic inflammatory disease': 2,\n 'Vomiting': 5,\n 'Diarrhea': 5,\n 'Fever': 6,\n 'Nausea': 8,\n 'Hypertrophy': 4,\n 'Otitis media': 3,\n 'Sigmoidoscopy': 1,\n 'Anemia': 5,\n 'Gastrointestinal bleeding': 3,\n 'Laparoscopy': 4,\n 'Cholecystectomy': 2,\n 'Gallstone': 4,\n 'Cholecystitis': 5,\n 'Bile duct': 1,\n 'Symptom': 5,\n 'Eating': 1,\n 'Cooking oil': 1,\n 'Food': 1,\n 'Pain': 2,\n 'Reactive arthritis': 1,\n 'Erythema': 2,\n 'Septic shock': 1,\n 'Leg': 1,\n 'Knee': 1,\n 'Endometriosis': 5,\n 'Jaundice': 1,\n 'Weight loss': 1,\n 'Abdominal pain': 9,\n 'Kidney transplantation': 1,\n 'Kidney disease': 1,\n 'Cadaver': 1,\n 'Gangrene': 2,\n 'Acute (medicine)': 5,\n 'Etiology': 1,\n 'Systemic inflammation': 1,\n 'Mesentery': 2,\n 'Generalization': 2,\n 'Ileostomy': 1,\n 'Epigastrium': 1,\n 'Ulcer': 1,\n 'Peptic ulcer disease': 1,\n 'Polyp (medicine)': 2,\n 'Gastritis': 3,\n 'Antrum': 3,\n 'Duodenum': 2,\n 'Heme': 1,\n 'Cyst': 1,\n 'Liver': 1,\n 'Quadrants and regions of abdomen': 1,\n 'Abscess': 4,\n 'Foreign body': 1,\n 'Cellulitis': 4,\n 'Footedness': 1,\n 'Endocarditis': 1,\n 'Aortic valve': 1,\n 'Vegetation': 1,\n 'Nosebleed': 1,\n 'Relapse': 2,\n 'Adenoid hypertrophy': 3,\n 'Colon cleansing': 3,\n 'Position resection and intersection': 1,\n 'Gallbladder': 4,\n 'Necrosis': 1,\n 'Area': 1,\n 'Hyperlipidemia': 1,\n 'Arthritis': 2,\n 'Chronic kidney disease': 3,\n 'Conventional treatment': 1,\n 'Flare': 1,\n 'Therapy': 1,\n 'Sulfasalazine': 1,\n 'Cortisone': 1,\n 'Obstructive sleep apnea': 1,\n 'Hyperglycemia': 1,\n 'Liver function tests': 2,\n 'Female': 6,\n 'Pharyngitis': 2,\n 'Bronchoscopy': 1,\n 'Secretion': 1,\n 'Lung': 2,\n 'Granuloma': 1,\n 'Dissemination': 1,\n 'Tracheobronchitis': 1,\n 'Heavy menstrual bleeding': 4,\n 'Esophagitis': 1,\n 'Esophageal stricture': 1,\n 'Diverticulosis': 3,\n 'Sigmoid colon': 1,\n 'Gastrointestinal tract': 1,\n 'Diffusion': 1,\n 'Lymphangiectasia': 1,\n 'Bloating': 1,\n 'Human tooth development': 1,\n 'Facial': 1,\n 'Adenocarcinoma of the lung': 1,\n 'Probability': 3,\n 'Lobe (anatomy)': 2,\n 'Ileum': 1,\n 'Hemorrhoid': 2,\n 'Anastomosis': 2,\n 'Chemotherapy': 1,\n 'Lymphoproliferative disorders': 1,\n 'Squamous cell skin cancer': 1,\n 'Benign prostatic hyperplasia': 3,\n 'Urinary retention': 3,\n 'Dysphagia': 7,\n 'Lip': 1,\n 'Adnexal mass': 1,\n 'Ankyloglossia': 1,\n 'Biliary dyskinesia': 1,\n 'Evidence': 3,\n 'Work-up (chemistry)': 2,\n 'Appendicitis': 3,\n 'Abdomen': 3,\n 'Perforation': 2,\n 'Respiratory failure': 3,\n 'Edema': 1,\n 'Olecranon bursitis': 1,\n 'Elbow': 1,\n 'Chronic obstructive pulmonary disease': 1,\n 'Acute bronchitis': 2,\n 'Exacerbation': 1,\n 'Inguinal hernia': 3,\n 'Phimosis': 1,\n 'Respiratory syncytial virus': 1,\n 'Bronchiolitis': 1,\n 'Peritoneum': 1,\n 'Fistula': 1,\n 'Dysmenorrhea': 2,\n 'Menometrorrhagia': 1,\n 'Intermittency': 3,\n 'Diverticular disease': 1,\n 'Spinal disc herniation': 1,\n 'Spinal stenosis': 1,\n 'Adenoid': 1,\n 'Nasal congestion': 1,\n 'Tonsillitis': 1,\n 'Tonsil': 1,\n 'Lymphedema': 1,\n 'Human leg': 2,\n 'Drainage': 1,\n 'Pus': 1,\n 'Incision and drainage': 1,\n 'Hoarse voice': 1,\n 'Complication (medicine)': 1,\n 'Reflux': 2,\n 'Obesity-associated morbidity': 1,\n 'Black people': 1,\n 'Chronic cough': 1,\n 'Reactive airway disease': 1,\n 'Hematochezia': 1,\n 'Refractory': 2,\n 'Colorectal polyp': 1,\n 'Indigestion': 2,\n 'Leukocytosis': 1,\n 'Acute pancreatitis': 1,\n 'Spondylosis': 1,\n 'Kyphosis': 1,\n 'Deformity': 1,\n 'Manipulation under anesthesia': 1,\n 'Vertebral column': 1,\n 'Sacroiliitis': 1,\n 'Myalgia': 1,\n 'Fibromyalgia': 1,\n 'Benignity': 1,\n 'Masse': 1,\n 'Carpal tunnel syndrome': 2,\n 'De Quervain syndrome': 1,\n 'Cerebral palsy': 1,\n 'Medulla oblongata': 1,\n 'Hypotonia': 1,\n 'Bowel obstruction': 1,\n 'Umbilical hernia': 1,\n 'Small intestine': 2,\n 'Autoimmune hemolytic anemia': 1,\n 'Mouth ulcer': 1,\n 'Chronic lymphocytic leukemia': 1,\n 'Methicillin-resistant Staphylococcus aureus': 2,\n 'Wound': 1,\n 'Sequela': 2,\n 'Gastroparesis': 1,\n 'Alkali': 1,\n 'Pancreaticoduodenectomy': 1,\n 'Billroth II': 1,\n 'Dysplasia': 1,\n 'Carbon dioxide laser': 1,\n 'Laser ablation': 1,\n 'Rheumatoid arthritis': 1,\n 'Mild ale': 1,\n 'Atypical pneumonia': 1,\n 'Adrenal insufficiency': 1,\n 'Pelvic tumor': 1,\n 'Rectocele': 1,\n 'Cystocele': 1,\n 'Thigh': 2,\n 'Subcutaneous tissue': 1,\n 'Ring-enhancing lesion': 1,\n 'Consistency': 4,\n 'Metastatic liver disease': 1,\n 'Pancreatic tumor': 1,\n 'Lymph node': 1,\n 'Male': 4,\n 'Mastoiditis': 1,\n 'Emergency department': 1,\n 'Child': 1,\n 'Inhalant': 1,\n 'Glossitis': 1,\n 'Allergy': 1,\n 'Food allergy': 1,\n 'Asthma': 1,\n 'Xerostomia': 1,\n 'Process': 1,\n 'Neurogenic bladder dysfunction': 1,\n 'Urinary catheterization': 1,\n 'Pleural effusion': 1,\n 'Osteomyelitis': 1,\n 'Toe': 1,\n 'Endoscopy': 1,\n 'Atrophy': 1,\n 'Corticosteroid': 1,\n 'Blood test': 1,\n 'Chest pain': 1,\n 'Axillary lymphadenopathy': 1,\n 'Hepatosplenomegaly': 1,\n 'Thrombocytopenia': 1,\n 'Upper respiratory tract infection': 1,\n 'Inflammation': 2,\n 'Stroke': 1,\n 'Disability': 1,\n 'Antibiotic': 1,\n 'White people': 1,\n 'Retroperitoneal fibrosis': 1,\n 'Ureter': 1,\n 'Pyogenic granuloma': 2,\n 'Elevated railway': 2,\n 'Erectile dysfunction': 1,\n 'Ultrasound': 1,\n 'Adenomyomatosis': 1,\n 'Biliary sludge': 1,\n 'Ileal conduit urinary diversion': 1,\n 'Mucus': 1,\n 'Pyelonephritis': 1,\n 'Airway obstruction': 1,\n 'Epiglottitis': 1,\n 'Eustachian tube dysfunction': 1,\n 'Effusion': 1,\n 'Health administration': 1,\n 'Road surface': 1,\n 'Scrotum': 2,\n 'Physical examination': 1,\n 'Inventive step and non-obviousness': 1,\n 'Hydrocele': 1,\n 'Intubation': 1,\n 'Pneumonia': 1,\n 'Hemodialysis': 1,\n 'Term (time)': 1,\n 'Malnutrition': 1,\n 'Polyp (zoology)': 1,\n 'Density': 1,\n 'Video': 1,\n 'Pericardial effusion': 1,\n 'Question': 2,\n 'Cough': 1,\n 'Protein\u2013energy malnutrition': 1,\n 'Apnea': 1,\n 'Respiratory disease': 1,\n 'Whooping cough': 1,\n 'Pyriform sinus': 1,\n 'No symbol': 1,\n 'Metoclopramide': 1,\n 'Tetracycline': 1,\n 'Ileus': 1,\n 'Thoracic wall': 1,\n 'Bloodstream infections': 1,\n 'Ablation': 1,\n 'Esophagogastroduodenoscopy': 1,\n 'Prostate': 1,\n 'Electrosurgery': 1,\n 'Segmental resection': 1,\n 'Instability': 1,\n 'Radiculopathy': 1,\n 'Bilateralism': 1,\n 'Spondylolysis': 1,\n 'Syndrome': 1,\n 'Concussion': 1,\n 'Rolandic epilepsy': 1,\n 'Inferior nasal concha': 1,\n 'Midline shift': 1,\n 'Splints': 1,\n 'Anti-inflammatory': 1,\n 'Night': 1,\n 'Conservative management': 1,\n 'Pylorus': 1,\n 'Tissue (biology)': 1,\n 'Erosion': 1,\n 'Biopsy': 1,\n 'Polyploidy': 1}"
                    },
                    "execution_count": 92,
                    "metadata": {},
                    "output_type": "execute_result"
                }
            ],
            "source": "term_count #esse foi o conteudo da \u00faltima itera\u00e7\u00e3o"
        },
        {
            "cell_type": "code",
            "execution_count": 103,
            "metadata": {},
            "outputs": [
                {
                    "name": "stdout",
                    "output_type": "stream",
                    "text": "***  Possible inflammatory bowel disease\n***  Lumbar muscle strain and chronic back pain\n***  Risk factors for coronary heart disease.\n***  Urgent cardiac catheterization with coronary angiogram.\n***  Hemoptysis and history of lung cancer\n"
                },
                {
                    "data": {
                        "text/html": "<div>\n<style scoped>\n    .dataframe tbody tr th:only-of-type {\n        vertical-align: middle;\n    }\n\n    .dataframe tbody tr th {\n        vertical-align: top;\n    }\n\n    .dataframe thead th {\n        text-align: right;\n    }\n</style>\n<table border=\"1\" class=\"dataframe\">\n  <thead>\n    <tr style=\"text-align: right;\">\n      <th></th>\n      <th>KP</th>\n      <th>Term</th>\n      <th>n_mentions</th>\n    </tr>\n  </thead>\n  <tbody>\n    <tr>\n      <th>45</th>\n      <td>Hemoptysis and history of lung cancer</td>\n      <td>Metastasis</td>\n      <td>6</td>\n    </tr>\n    <tr>\n      <th>16</th>\n      <td>Possible inflammatory bowel disease</td>\n      <td>Patient</td>\n      <td>27</td>\n    </tr>\n    <tr>\n      <th>20</th>\n      <td>Possible inflammatory bowel disease</td>\n      <td>CT scan</td>\n      <td>5</td>\n    </tr>\n  </tbody>\n</table>\n</div>",
                        "text/plain": "                                        KP        Term  n_mentions\n45   Hemoptysis and history of lung cancer  Metastasis           6\n16     Possible inflammatory bowel disease     Patient          27\n20     Possible inflammatory bowel disease     CT scan           5"
                    },
                    "execution_count": 103,
                    "metadata": {},
                    "output_type": "execute_result"
                }
            ],
            "source": "# 5-Top Terms for each KP\n\npairs_key_terms = []\ndf_terms = None\n\nfor kp in df_clean[\"kp\"].unique():\n    \n    print('***',kp)\n\n    terms_by_kp = list(terms[kp].items()),\n    \n    lst_top_terms = []\n    \n    for term in terms_by_kp[0]:\n        \n        lst_top_terms.append([kp, term[0], term[1]]) #term[0] is the term itself, term[1] is the n_mentios\n        \n    df_stg = pd.DataFrame(lst_top_terms, columns=['KP', 'Term', 'n_mentions']).\\\n                sort_values(by='n_mentions', ascending=False)[:n_top_terms_by_kp]\n\n    if df_terms is None:\n        df_terms = df_stg.copy()\n    else:\n        df_terms = pd.concat([df_terms, df_stg], axis=0)\n\ndf_terms.sample(3)"
        },
        {
            "cell_type": "code",
            "execution_count": 104,
            "metadata": {},
            "outputs": [
                {
                    "data": {
                        "text/plain": "[('Hemoptysis', 1), ('Lung cancer', 2), ('Urinary bladder', 2)]"
                    },
                    "execution_count": 104,
                    "metadata": {},
                    "output_type": "execute_result"
                }
            ],
            "source": "list(terms[kp].items())[:3]"
        },
        {
            "cell_type": "code",
            "execution_count": 105,
            "metadata": {},
            "outputs": [],
            "source": "# Saving df_terms for the dashboard\n\nfile = 'df_terms.csv'\ndf_terms.to_csv(file)\nsto.upload_file(Bucket=bucket, Key=file, Filename=file)"
        },
        {
            "cell_type": "code",
            "execution_count": 106,
            "metadata": {},
            "outputs": [
                {
                    "name": "stdout",
                    "output_type": "stream",
                    "text": "ok\n"
                }
            ],
            "source": "print('ok')"
        },
        {
            "cell_type": "code",
            "execution_count": null,
            "metadata": {},
            "outputs": [],
            "source": ""
        }
    ],
    "metadata": {
        "kernelspec": {
            "display_name": "Python 3.9",
            "language": "python",
            "name": "python3"
        },
        "language_info": {
            "codemirror_mode": {
                "name": "ipython",
                "version": 3
            },
            "file_extension": ".py",
            "mimetype": "text/x-python",
            "name": "python",
            "nbconvert_exporter": "python",
            "pygments_lexer": "ipython3",
            "version": "3.9.12"
        }
    },
    "nbformat": 4,
    "nbformat_minor": 1
}