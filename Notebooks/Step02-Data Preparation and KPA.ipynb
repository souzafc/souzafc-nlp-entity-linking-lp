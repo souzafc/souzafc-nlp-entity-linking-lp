{
    "cells": [
        {
            "cell_type": "markdown",
            "metadata": {},
            "source": "###### Project: NLP Entity Linking\n###### Step: Data Preparation and KPA\n###### Author: Fabio C. Souza - Jun/2022"
        },
        {
            "cell_type": "code",
            "execution_count": 1,
            "metadata": {},
            "outputs": [],
            "source": "# Imports\n\nimport pandas as pd\nimport io\nimport requests\nimport matplotlib.pyplot as plt\nimport pathlib\nimport zipfile"
        },
        {
            "cell_type": "code",
            "execution_count": 2,
            "metadata": {},
            "outputs": [],
            "source": "# The code was removed by Watson Studio for sharing."
        },
        {
            "cell_type": "code",
            "execution_count": 3,
            "metadata": {},
            "outputs": [],
            "source": "# Storage access object\n\nimport os, types\nimport pandas as pd\nfrom botocore.client import Config\nimport ibm_boto3\n\ndef __iter__(self): return 0\n\nsto = ibm_boto3.client(service_name='s3',\n    ibm_api_key_id=ibm_api_key_id,\n    ibm_auth_endpoint=ibm_auth_endpoint,\n    config=Config(signature_version='oauth'),\n    endpoint_url=endpoint_url)"
        },
        {
            "cell_type": "code",
            "execution_count": 4,
            "metadata": {},
            "outputs": [],
            "source": "# Import Dabater\n\nkey = 'debater_python_api.zip'\nsto.download_file(Bucket=bucket, Key=key, Filename=key)\nwith zipfile.ZipFile(key, 'r') as zf:\n    zf.extractall()\n    \nfrom debater_python_api.api.debater_api import DebaterApi"
        },
        {
            "cell_type": "code",
            "execution_count": 5,
            "metadata": {},
            "outputs": [],
            "source": "# Downloading file from storage\n\nkey='mtsamples_descriptions_clean.txt'\nsto.download_file(Bucket=bucket, Key=key, Filename=key)"
        },
        {
            "cell_type": "code",
            "execution_count": 6,
            "metadata": {},
            "outputs": [],
            "source": "# 1-Reading input dataset\n\nkey='mtsamples_descriptions_clean.txt'\ndf = pd.read_csv(key)"
        },
        {
            "cell_type": "code",
            "execution_count": 7,
            "metadata": {},
            "outputs": [
                {
                    "data": {
                        "text/html": "<div>\n<style scoped>\n    .dataframe tbody tr th:only-of-type {\n        vertical-align: middle;\n    }\n\n    .dataframe tbody tr th {\n        vertical-align: top;\n    }\n\n    .dataframe thead th {\n        text-align: right;\n    }\n</style>\n<table border=\"1\" class=\"dataframe\">\n  <thead>\n    <tr style=\"text-align: right;\">\n      <th></th>\n      <th>id</th>\n      <th>id_description</th>\n      <th>medical_specialty_new</th>\n      <th>text</th>\n      <th>year</th>\n      <th>borough</th>\n    </tr>\n  </thead>\n  <tbody>\n    <tr>\n      <th>38</th>\n      <td>38</td>\n      <td>31</td>\n      <td>Obstetrics / Gynecology</td>\n      <td>Microinvasive carcinoma of the cervix.</td>\n      <td>2016.0</td>\n      <td>Merton</td>\n    </tr>\n  </tbody>\n</table>\n</div>",
                        "text/plain": "    id  id_description     medical_specialty_new  \\\n38  38              31   Obstetrics / Gynecology   \n\n                                       text    year borough  \n38   Microinvasive carcinoma of the cervix.  2016.0  Merton  "
                    },
                    "execution_count": 7,
                    "metadata": {},
                    "output_type": "execute_result"
                }
            ],
            "source": "# Um KPA (la de baixo neste notebook \u00e9 um text?)\n\ntxt=' Congestive heart failure, stable on current regimen'\ndf[df['text']==txt]\n#Sim\n\ntxt=' Microinvasive carcinoma of the cervix.'\ndf[df['text']==txt]\n#Sim"
        },
        {
            "cell_type": "code",
            "execution_count": 8,
            "metadata": {},
            "outputs": [
                {
                    "name": "stdout",
                    "output_type": "stream",
                    "text": "(3248, 6)\n(3245, 6)\n"
                }
            ],
            "source": "# 2-Removing any rows that have missing values\n\nprint(df.shape)\ndf = df.dropna()\nprint(df.shape)"
        },
        {
            "cell_type": "code",
            "execution_count": 9,
            "metadata": {},
            "outputs": [
                {
                    "name": "stdout",
                    "output_type": "stream",
                    "text": "<class 'pandas.core.frame.DataFrame'>\nInt64Index: 3245 entries, 0 to 3246\nData columns (total 6 columns):\n #   Column                 Non-Null Count  Dtype  \n---  ------                 --------------  -----  \n 0   id                     3245 non-null   object \n 1   id_description         3245 non-null   object \n 2   medical_specialty_new  3245 non-null   object \n 3   text                   3245 non-null   object \n 4   year                   3245 non-null   float64\n 5   borough                3245 non-null   object \ndtypes: float64(1), object(5)\nmemory usage: 177.5+ KB\n"
                }
            ],
            "source": "# 3-Transforming the data so that identifiers are strings\n\ndf[\"id\"] = df[\"id\"].astype(str)\ndf[\"id_description\"] = df[\"id_description\"].astype(str)\ndf.info()"
        },
        {
            "cell_type": "code",
            "execution_count": 10,
            "metadata": {},
            "outputs": [
                {
                    "data": {
                        "text/plain": "OrderedDict([('id', '0'),\n             ('id_description', '0'),\n             ('medical_specialty_new', ' Gastroenterology'),\n             ('text', ' EGD with photos and biopsies'),\n             ('year', 2013.0),\n             ('borough', 'Merton')])"
                    },
                    "execution_count": 10,
                    "metadata": {},
                    "output_type": "execute_result"
                }
            ],
            "source": "# 3/4-Reshaping the dataset so that each row is an ordered dictionary and create a data structure sentences to use with the API\n\nfrom collections import OrderedDict\nsentences = df.to_dict(into=OrderedDict, orient=\"records\")\nsentences[0]"
        },
        {
            "cell_type": "code",
            "execution_count": 11,
            "metadata": {},
            "outputs": [
                {
                    "name": "stdout",
                    "output_type": "stream",
                    "text": "API_Key already loaded before\n"
                }
            ],
            "source": "# 5-Loading your API key into the api_key variable\n\nprint('API_Key already loaded before')"
        },
        {
            "cell_type": "code",
            "execution_count": 12,
            "metadata": {},
            "outputs": [],
            "source": "# 6-Initializing clients for the two services being used\n\ndebater_api = DebaterApi(apikey=api_key)\narg_quality_client = debater_api.get_argument_quality_client()\nkeypoints_client = debater_api.get_keypoints_client()"
        },
        {
            "cell_type": "code",
            "execution_count": 13,
            "metadata": {},
            "outputs": [
                {
                    "name": "stderr",
                    "output_type": "stream",
                    "text": "ArgumentQualityClient: 100%|\u2588\u2588\u2588\u2588\u2588\u2588\u2588\u2588\u2588\u2588| 3245/3245 [00:37<00:00, 87.65it/s] \n"
                }
            ],
            "source": "# 7.1-Setting a topic, then run argument quality to get scores over sentences\n\ntopic = \"\"\"\nThe patient is a 30-year-old who was admitted with symptoms including obstructions, failures, and pain that started four days ago.\n\"\"\"\n\nsentences_topic = [\n    { \"sentence\": sentence[\"text\"], \"topic\": topic, }\n    for sentence in sentences\n]\n\nscores = arg_quality_client.run(sentences_topic)"
        },
        {
            "cell_type": "code",
            "execution_count": 20,
            "metadata": {},
            "outputs": [],
            "source": "# 7.2-Selecting the top 1,000 sentences most closely related to the chosen topic\n\nsentences_sorted = [\n    s for s in sorted(zip(sentences, scores), key=lambda x: x[1], reverse=True)\n]\n\ntop_k = 1000\nsentences_top_1000_aq = sentences_sorted[:top_k]"
        },
        {
            "cell_type": "code",
            "execution_count": 23,
            "metadata": {},
            "outputs": [],
            "source": "# 8-Setting parameters for Key Point Analysis service\n\nmapping_threshold = 0.95\nn_top_kps = 20\n\ndomain = \"medical_demo\"\n\nrun_params = {\n    \"mapping_threshold\": mapping_threshold,\n    \"n_top_kps\": n_top_kps,\n}"
        },
        {
            "cell_type": "code",
            "execution_count": 34,
            "metadata": {},
            "outputs": [],
            "source": "# 9-Reshape the data into sentences_texts and sentences_id to use for the KPA job (for the 1k selected sentences)\n\nsentences_texts = [\n    sentence[0][\"text\"] \n    for sentence in sentences_top_1000_aq\n]\n\nsentences_ids = [\n    sentence[0][\"id\"]\n    for sentence in sentences_top_1000_aq\n]"
        },
        {
            "cell_type": "code",
            "execution_count": 41,
            "metadata": {},
            "outputs": [],
            "source": "# FCS testing - loading 1000k comments from original file\n\ndf1 = df.copy()\ndf1['text'] = df1['text'].apply(lambda x: ' '+str(x).strip()+'.'.replace('..','.'))\ndf1 = df1.groupby(by='id_description').agg({'text':'sum'}).reset_index().iloc[:150]\n\nkeypoints_client.delete_domain_cannot_be_undone(domain)\n\nkeypoints_client.upload_comments(\n    domain=domain,\n    comments_ids=[str(x) for x in df1['id_description'].values.tolist()],\n    comments_texts=df1['text'].values.tolist(),\n    dont_split=False,\n)\n\nkeypoints_client.wait_till_all_comments_are_processed(domain=domain)\n\nfuture = keypoints_client.start_kp_analysis_job(\n    domain=domain,\n    comments_ids=[str(x) for x in df1['id_description'].values.tolist()],\n    run_params=run_params,\n)\n\nkpa_result = future.get_result(\n    high_verbosity=False,\n    polling_timout_secs=5,\n)\n\nfuture.get_job_id();"
        },
        {
            "cell_type": "code",
            "execution_count": 68,
            "metadata": {},
            "outputs": [],
            "source": "# FCS testing - continuing\n\nlst_kpa = []\nfor i in range(len(kpa_result.get('keypoint_matchings'))):\n    \n    for j in range(len(kpa_result.get('keypoint_matchings')[i])):\n    \n        kp = kpa_result.get('keypoint_matchings')[i].get('keypoint')\n        \n        for k in range(len(kpa_result.get('keypoint_matchings')[i].get('matching'))):\n            \n            comment_id = kpa_result.get('keypoint_matchings')[i].get('matching')[k].get('comment_id')\n            \n            lst_kpa.append([kp, comment_id])\n            \ndf_kpa = pd.DataFrame(lst_kpa, columns=['KP', 'CommentId'])\ndf_kpa['CommentId'] = df_kpa['CommentId'].astype(int)\ndf1 = df1.merge(df_kpa, how='left', left_on='id_description', right_on='CommentId')"
        },
        {
            "cell_type": "code",
            "execution_count": 70,
            "metadata": {},
            "outputs": [
                {
                    "data": {
                        "text/html": "<div>\n<style scoped>\n    .dataframe tbody tr th:only-of-type {\n        vertical-align: middle;\n    }\n\n    .dataframe tbody tr th {\n        vertical-align: top;\n    }\n\n    .dataframe thead th {\n        text-align: right;\n    }\n</style>\n<table border=\"1\" class=\"dataframe\">\n  <thead>\n    <tr style=\"text-align: right;\">\n      <th></th>\n      <th>id_description</th>\n      <th>text</th>\n      <th>KP</th>\n      <th>CommentId</th>\n    </tr>\n  </thead>\n  <tbody>\n    <tr>\n      <th>4</th>\n      <td>0</td>\n      <td>EGD with photos and biopsies. This is a 75-ye...</td>\n      <td>Patient with a history of gross hematuria.</td>\n      <td>0.0</td>\n    </tr>\n    <tr>\n      <th>5</th>\n      <td>0</td>\n      <td>EGD with photos and biopsies. This is a 75-ye...</td>\n      <td>Patient with a history of gross hematuria.</td>\n      <td>0.0</td>\n    </tr>\n    <tr>\n      <th>6</th>\n      <td>0</td>\n      <td>EGD with photos and biopsies. This is a 75-ye...</td>\n      <td>Patient with a history of gross hematuria.</td>\n      <td>0.0</td>\n    </tr>\n    <tr>\n      <th>7</th>\n      <td>0</td>\n      <td>EGD with photos and biopsies. This is a 75-ye...</td>\n      <td>Patient with a history of gross hematuria.</td>\n      <td>0.0</td>\n    </tr>\n    <tr>\n      <th>55</th>\n      <td>26</td>\n      <td>Syncope, end-stage renal disease requiring he...</td>\n      <td>Patient with a history of gross hematuria.</td>\n      <td>26.0</td>\n    </tr>\n    <tr>\n      <th>56</th>\n      <td>26</td>\n      <td>Syncope, end-stage renal disease requiring he...</td>\n      <td>Patient with a history of gross hematuria.</td>\n      <td>26.0</td>\n    </tr>\n    <tr>\n      <th>92</th>\n      <td>50</td>\n      <td>Discharge summary of patient with leiomyosarc...</td>\n      <td>Patient with a history of gross hematuria.</td>\n      <td>50.0</td>\n    </tr>\n    <tr>\n      <th>93</th>\n      <td>50</td>\n      <td>Discharge summary of patient with leiomyosarc...</td>\n      <td>Patient with a history of gross hematuria.</td>\n      <td>50.0</td>\n    </tr>\n    <tr>\n      <th>218</th>\n      <td>136</td>\n      <td>Chest CT - Thymoma and history of ocular myas...</td>\n      <td>Patient with a history of gross hematuria.</td>\n      <td>136.0</td>\n    </tr>\n    <tr>\n      <th>219</th>\n      <td>136</td>\n      <td>Chest CT - Thymoma and history of ocular myas...</td>\n      <td>Patient with a history of gross hematuria.</td>\n      <td>136.0</td>\n    </tr>\n    <tr>\n      <th>248</th>\n      <td>154</td>\n      <td>CT Brain - unshunted hydrocephalus, Dandy-Wal...</td>\n      <td>Patient with a history of gross hematuria.</td>\n      <td>154.0</td>\n    </tr>\n    <tr>\n      <th>249</th>\n      <td>154</td>\n      <td>CT Brain - unshunted hydrocephalus, Dandy-Wal...</td>\n      <td>Patient with a history of gross hematuria.</td>\n      <td>154.0</td>\n    </tr>\n    <tr>\n      <th>290</th>\n      <td>190</td>\n      <td>Patient with a history of gross hematuria. CT...</td>\n      <td>Patient with a history of gross hematuria.</td>\n      <td>190.0</td>\n    </tr>\n    <tr>\n      <th>291</th>\n      <td>190</td>\n      <td>Patient with a history of gross hematuria. CT...</td>\n      <td>Patient with a history of gross hematuria.</td>\n      <td>190.0</td>\n    </tr>\n    <tr>\n      <th>334</th>\n      <td>226</td>\n      <td>Polycythemia rubra vera. The patient is an 83...</td>\n      <td>Patient with a history of gross hematuria.</td>\n      <td>226.0</td>\n    </tr>\n    <tr>\n      <th>335</th>\n      <td>226</td>\n      <td>Polycythemia rubra vera. The patient is an 83...</td>\n      <td>Patient with a history of gross hematuria.</td>\n      <td>226.0</td>\n    </tr>\n    <tr>\n      <th>352</th>\n      <td>236</td>\n      <td>Posttransplant lymphoproliferative disorder, ...</td>\n      <td>Patient with a history of gross hematuria.</td>\n      <td>236.0</td>\n    </tr>\n    <tr>\n      <th>353</th>\n      <td>236</td>\n      <td>Posttransplant lymphoproliferative disorder, ...</td>\n      <td>Patient with a history of gross hematuria.</td>\n      <td>236.0</td>\n    </tr>\n  </tbody>\n</table>\n</div>",
                        "text/plain": "     id_description                                               text  \\\n4                 0   EGD with photos and biopsies. This is a 75-ye...   \n5                 0   EGD with photos and biopsies. This is a 75-ye...   \n6                 0   EGD with photos and biopsies. This is a 75-ye...   \n7                 0   EGD with photos and biopsies. This is a 75-ye...   \n55               26   Syncope, end-stage renal disease requiring he...   \n56               26   Syncope, end-stage renal disease requiring he...   \n92               50   Discharge summary of patient with leiomyosarc...   \n93               50   Discharge summary of patient with leiomyosarc...   \n218             136   Chest CT - Thymoma and history of ocular myas...   \n219             136   Chest CT - Thymoma and history of ocular myas...   \n248             154   CT Brain - unshunted hydrocephalus, Dandy-Wal...   \n249             154   CT Brain - unshunted hydrocephalus, Dandy-Wal...   \n290             190   Patient with a history of gross hematuria. CT...   \n291             190   Patient with a history of gross hematuria. CT...   \n334             226   Polycythemia rubra vera. The patient is an 83...   \n335             226   Polycythemia rubra vera. The patient is an 83...   \n352             236   Posttransplant lymphoproliferative disorder, ...   \n353             236   Posttransplant lymphoproliferative disorder, ...   \n\n                                             KP  CommentId  \n4    Patient with a history of gross hematuria.        0.0  \n5    Patient with a history of gross hematuria.        0.0  \n6    Patient with a history of gross hematuria.        0.0  \n7    Patient with a history of gross hematuria.        0.0  \n55   Patient with a history of gross hematuria.       26.0  \n56   Patient with a history of gross hematuria.       26.0  \n92   Patient with a history of gross hematuria.       50.0  \n93   Patient with a history of gross hematuria.       50.0  \n218  Patient with a history of gross hematuria.      136.0  \n219  Patient with a history of gross hematuria.      136.0  \n248  Patient with a history of gross hematuria.      154.0  \n249  Patient with a history of gross hematuria.      154.0  \n290  Patient with a history of gross hematuria.      190.0  \n291  Patient with a history of gross hematuria.      190.0  \n334  Patient with a history of gross hematuria.      226.0  \n335  Patient with a history of gross hematuria.      226.0  \n352  Patient with a history of gross hematuria.      236.0  \n353  Patient with a history of gross hematuria.      236.0  "
                    },
                    "execution_count": 70,
                    "metadata": {},
                    "output_type": "execute_result"
                }
            ],
            "source": "# FCS testing - continuing\n\ndf1[df1['KP']=='Patient with a history of gross hematuria.']"
        },
        {
            "cell_type": "code",
            "execution_count": 37,
            "metadata": {},
            "outputs": [],
            "source": "# 10-Just to be safe, in case this analysis was run previously, we\u2019ll clear the domain. \n# Then load the data for the Key Point Analysis job\n\nkeypoints_client.delete_domain_cannot_be_undone(domain)\n\nkeypoints_client.upload_comments(\n    domain=domain,\n    comments_ids=sentences_ids,\n    comments_texts=sentences_texts,\n    dont_split=True,\n)\n\nkeypoints_client.wait_till_all_comments_are_processed(domain=domain)"
        },
        {
            "cell_type": "code",
            "execution_count": 38,
            "metadata": {},
            "outputs": [],
            "source": "# 11-Running the KPA job\n\nfuture = keypoints_client.start_kp_analysis_job(\n    domain=domain,\n    comments_ids=sentences_ids,\n    run_params=run_params,\n)\n\nkpa_result = future.get_result(\n    high_verbosity=False,\n    polling_timout_secs=5,\n)\n    \nfuture.get_job_id();"
        },
        {
            "cell_type": "code",
            "execution_count": 45,
            "metadata": {},
            "outputs": [
                {
                    "data": {
                        "text/plain": "[{'domain': 'medical_demo',\n  'comment_id': '1220',\n  'sentence_id': 0,\n  'sents_in_comment': 1,\n  'span_start': 0,\n  'span_end': 157,\n  'num_tokens': 26,\n  'argument_quality': 0.650917649269104,\n  'sentence_text': '   The patient is a 1-year-old male with a history of chronic otitis media with effusion and conductive hearing loss refractory to outpatient medical therapy',\n  'score': 0},\n {'domain': 'medical_demo',\n  'comment_id': '577',\n  'sentence_id': 0,\n  'sents_in_comment': 1,\n  'span_start': 0,\n  'span_end': 53,\n  'num_tokens': 9,\n  'argument_quality': 0.44222593307495117,\n  'sentence_text': '  At the time of discharge, the patient had improved.',\n  'score': 0},\n {'domain': 'medical_demo',\n  'comment_id': '1591',\n  'sentence_id': 0,\n  'sents_in_comment': 1,\n  'span_start': 0,\n  'span_end': 121,\n  'num_tokens': 22,\n  'argument_quality': 0.49245700240135193,\n  'sentence_text': '  CO2 insufflation was done to a maximum pressure of 15 mmHg and a 12-mm VersaStep port was placed through his umbilicus.',\n  'score': 0}]"
                    },
                    "execution_count": 45,
                    "metadata": {},
                    "output_type": "execute_result"
                }
            ],
            "source": "# 12-Examining the structure of one of the matching KPA results.\n\nkpa_result[\"keypoint_matchings\"][0][\"matching\"][:3]"
        },
        {
            "cell_type": "code",
            "execution_count": 46,
            "metadata": {},
            "outputs": [
                {
                    "data": {
                        "text/html": "<div>\n<style scoped>\n    .dataframe tbody tr th:only-of-type {\n        vertical-align: middle;\n    }\n\n    .dataframe tbody tr th {\n        vertical-align: top;\n    }\n\n    .dataframe thead th {\n        text-align: right;\n    }\n</style>\n<table border=\"1\" class=\"dataframe\">\n  <thead>\n    <tr style=\"text-align: right;\">\n      <th></th>\n      <th>kp</th>\n      <th>sentence_text</th>\n      <th>match_score</th>\n      <th>comment_id</th>\n      <th>sentence_id</th>\n      <th>sents_in_comment</th>\n      <th>span_start</th>\n      <th>span_end</th>\n      <th>num_tokens</th>\n      <th>argument_quality</th>\n    </tr>\n  </thead>\n  <tbody>\n    <tr>\n      <th>887</th>\n      <td>Sepsis due to urinary tract infection.</td>\n      <td>Fever, otitis media, and possible sepsis.</td>\n      <td>0.999713</td>\n      <td>56</td>\n      <td>0</td>\n      <td>1</td>\n      <td>0</td>\n      <td>42</td>\n      <td>6</td>\n      <td>0.614363</td>\n    </tr>\n    <tr>\n      <th>888</th>\n      <td>Sepsis due to urinary tract infection.</td>\n      <td>The patient was discovered to have a MRSA bac...</td>\n      <td>0.999438</td>\n      <td>1693</td>\n      <td>0</td>\n      <td>1</td>\n      <td>0</td>\n      <td>155</td>\n      <td>27</td>\n      <td>0.552165</td>\n    </tr>\n    <tr>\n      <th>889</th>\n      <td>Sepsis due to urinary tract infection.</td>\n      <td>Recurrent urinary tract infection in a patien...</td>\n      <td>0.998664</td>\n      <td>718</td>\n      <td>0</td>\n      <td>1</td>\n      <td>0</td>\n      <td>116</td>\n      <td>16</td>\n      <td>0.657505</td>\n    </tr>\n    <tr>\n      <th>890</th>\n      <td>Clinical correlation is recommended.</td>\n      <td>Clinical correlation is recommended.</td>\n      <td>1.000000</td>\n      <td>929</td>\n      <td>0</td>\n      <td>1</td>\n      <td>0</td>\n      <td>37</td>\n      <td>4</td>\n      <td>0.614774</td>\n    </tr>\n    <tr>\n      <th>891</th>\n      <td>Clinical correlation is recommended.</td>\n      <td>Maculopapular rash in kind of a linear patter...</td>\n      <td>0.995213</td>\n      <td>3042</td>\n      <td>0</td>\n      <td>1</td>\n      <td>0</td>\n      <td>135</td>\n      <td>25</td>\n      <td>0.553300</td>\n    </tr>\n  </tbody>\n</table>\n</div>",
                        "text/plain": "                                          kp  \\\n887   Sepsis due to urinary tract infection.   \n888   Sepsis due to urinary tract infection.   \n889   Sepsis due to urinary tract infection.   \n890     Clinical correlation is recommended.   \n891     Clinical correlation is recommended.   \n\n                                         sentence_text  match_score  \\\n887          Fever, otitis media, and possible sepsis.     0.999713   \n888   The patient was discovered to have a MRSA bac...     0.999438   \n889   Recurrent urinary tract infection in a patien...     0.998664   \n890               Clinical correlation is recommended.     1.000000   \n891   Maculopapular rash in kind of a linear patter...     0.995213   \n\n    comment_id  sentence_id  sents_in_comment  span_start  span_end  \\\n887         56            0                 1           0        42   \n888       1693            0                 1           0       155   \n889        718            0                 1           0       116   \n890        929            0                 1           0        37   \n891       3042            0                 1           0       135   \n\n     num_tokens  argument_quality  \n887           6          0.614363  \n888          27          0.552165  \n889          16          0.657505  \n890           4          0.614774  \n891          25          0.553300  "
                    },
                    "execution_count": 46,
                    "metadata": {},
                    "output_type": "execute_result"
                }
            ],
            "source": "# 13-Reshaping the KPA results as a pandas DataFrame, then sampling the results\n\nmatchings_rows = []\n    \nfor keypoint_matching in kpa_result[\"keypoint_matchings\"]:\n    kp = keypoint_matching[\"keypoint\"]\n\n    for match in keypoint_matching[\"matching\"]:\n        match_row = [\n            kp,\n            match[\"sentence_text\"],\n            match[\"score\"],\n            match[\"comment_id\"],\n            match[\"sentence_id\"],\n            match[\"sents_in_comment\"],\n            match[\"span_start\"],\n            match[\"span_end\"],\n            match[\"num_tokens\"],\n            match[\"argument_quality\"],\n        ]\n\n        matchings_rows.append(match_row)\n\ncols = [\n    \"kp\",\n    \"sentence_text\",\n    \"match_score\",\n    \"comment_id\",\n    \"sentence_id\",\n    \"sents_in_comment\",\n    \"span_start\",\n    \"span_end\",\n    \"num_tokens\",\n    \"argument_quality\",\n]\n    \nmatch_df = pd.DataFrame(matchings_rows, columns=cols)\nmatch_df.tail()"
        },
        {
            "cell_type": "code",
            "execution_count": 47,
            "metadata": {},
            "outputs": [
                {
                    "data": {
                        "text/plain": "array(['none', ' Possible inflammatory bowel disease',\n       ' Lumbar muscle strain and chronic back pain',\n       ' Risk factors for coronary heart disease.',\n       ' Hemoptysis and history of lung cancer',\n       ' Enlarged fibroid uterus, hypermenorrhea, and secondary anemia',\n       ' No evidence of polyps or malignancy.',\n       ' Unilateral transpedicular T11 vertebroplasty.',\n       ' Microinvasive carcinoma of the cervix.',\n       ' Cerebral palsy, worsening seizures',\n       ' Routine colorectal cancer screening',\n       ' No complications were encountered throughout the procedure.',\n       ' Cognitive linguistic impairment secondary to stroke',\n       ' Congestive heart failure, stable on current regimen',\n       ' Palpitations, possibly related to anxiety',\n       ' Hematemesis in a patient with longstanding diabetes',\n       ' This patient has reoccurring ingrown infected toenails.',\n       ' Lumbar epidural steroid injection for lumbar radiculopathy.',\n       ' Brachytherapy, iodine-125 seed implantation, and cystoscopy.',\n       ' Sepsis due to urinary tract infection.',\n       ' Clinical correlation is recommended.'], dtype=object)"
                    },
                    "execution_count": 47,
                    "metadata": {},
                    "output_type": "execute_result"
                }
            ],
            "source": "match_df['kp'].unique()"
        },
        {
            "cell_type": "code",
            "execution_count": 48,
            "metadata": {},
            "outputs": [
                {
                    "name": "stdout",
                    "output_type": "stream",
                    "text": "(892, 10)\n(892, 13)\n"
                }
            ],
            "source": "# 14-Merging the KPA results with related sentences from our input dataset, ...\n# ...saving these results to a CSV file df_merge.csv for later use.\n\nprint(match_df.shape)\ndf_merge = match_df.merge(\n    df[[\"id\", \"id_description\", \"medical_specialty_new\"]],\n    left_on = \"comment_id\",\n    right_on = \"id\",\n    validate = \"one_to_one\")\nprint(df_merge.shape)\n\nkey = \"df_merge.csv\"\ndf_merge.to_csv(key, index=False)\nsto.upload_file(Bucket=bucket, Key=key, Filename=key)"
        },
        {
            "cell_type": "code",
            "execution_count": 49,
            "metadata": {},
            "outputs": [
                {
                    "data": {
                        "text/html": "<div>\n<style scoped>\n    .dataframe tbody tr th:only-of-type {\n        vertical-align: middle;\n    }\n\n    .dataframe tbody tr th {\n        vertical-align: top;\n    }\n\n    .dataframe thead th {\n        text-align: right;\n    }\n</style>\n<table border=\"1\" class=\"dataframe\">\n  <thead>\n    <tr style=\"text-align: right;\">\n      <th></th>\n      <th>kp</th>\n      <th>sentence_text</th>\n      <th>match_score</th>\n      <th>comment_id</th>\n      <th>sentence_id</th>\n      <th>sents_in_comment</th>\n      <th>span_start</th>\n      <th>span_end</th>\n      <th>num_tokens</th>\n      <th>argument_quality</th>\n      <th>id</th>\n      <th>id_description</th>\n      <th>medical_specialty_new</th>\n    </tr>\n  </thead>\n  <tbody>\n    <tr>\n      <th>0</th>\n      <td>none</td>\n      <td>The patient is a 1-year-old male with a his...</td>\n      <td>0.0</td>\n      <td>1220</td>\n      <td>0</td>\n      <td>1</td>\n      <td>0</td>\n      <td>157</td>\n      <td>26</td>\n      <td>0.650918</td>\n      <td>1220</td>\n      <td>1114</td>\n      <td>Pediatrics - Neonatal</td>\n    </tr>\n    <tr>\n      <th>1</th>\n      <td>none</td>\n      <td>At the time of discharge, the patient had im...</td>\n      <td>0.0</td>\n      <td>577</td>\n      <td>0</td>\n      <td>1</td>\n      <td>0</td>\n      <td>53</td>\n      <td>9</td>\n      <td>0.442226</td>\n      <td>577</td>\n      <td>595</td>\n      <td>General Medicine</td>\n    </tr>\n    <tr>\n      <th>2</th>\n      <td>none</td>\n      <td>CO2 insufflation was done to a maximum press...</td>\n      <td>0.0</td>\n      <td>1591</td>\n      <td>0</td>\n      <td>1</td>\n      <td>0</td>\n      <td>121</td>\n      <td>22</td>\n      <td>0.492457</td>\n      <td>1591</td>\n      <td>1304</td>\n      <td>Gastroenterology</td>\n    </tr>\n    <tr>\n      <th>3</th>\n      <td>none</td>\n      <td>Intrauterine pregnancy of 39 weeks, Herpes s...</td>\n      <td>0.0</td>\n      <td>1302</td>\n      <td>0</td>\n      <td>1</td>\n      <td>0</td>\n      <td>257</td>\n      <td>34</td>\n      <td>0.630517</td>\n      <td>1302</td>\n      <td>1160</td>\n      <td>Obstetrics / Gynecology</td>\n    </tr>\n    <tr>\n      <th>4</th>\n      <td>none</td>\n      <td>L1 laminotomy, microdissection, retrieval of...</td>\n      <td>0.0</td>\n      <td>1100</td>\n      <td>0</td>\n      <td>1</td>\n      <td>0</td>\n      <td>161</td>\n      <td>20</td>\n      <td>0.588591</td>\n      <td>1100</td>\n      <td>1036</td>\n      <td>Neurosurgery</td>\n    </tr>\n  </tbody>\n</table>\n</div>",
                        "text/plain": "     kp                                      sentence_text  match_score  \\\n0  none     The patient is a 1-year-old male with a his...          0.0   \n1  none    At the time of discharge, the patient had im...          0.0   \n2  none    CO2 insufflation was done to a maximum press...          0.0   \n3  none    Intrauterine pregnancy of 39 weeks, Herpes s...          0.0   \n4  none    L1 laminotomy, microdissection, retrieval of...          0.0   \n\n  comment_id  sentence_id  sents_in_comment  span_start  span_end  num_tokens  \\\n0       1220            0                 1           0       157          26   \n1        577            0                 1           0        53           9   \n2       1591            0                 1           0       121          22   \n3       1302            0                 1           0       257          34   \n4       1100            0                 1           0       161          20   \n\n   argument_quality    id id_description     medical_specialty_new  \n0          0.650918  1220           1114     Pediatrics - Neonatal  \n1          0.442226   577            595          General Medicine  \n2          0.492457  1591           1304          Gastroenterology  \n3          0.630517  1302           1160   Obstetrics / Gynecology  \n4          0.588591  1100           1036              Neurosurgery  "
                    },
                    "execution_count": 49,
                    "metadata": {},
                    "output_type": "execute_result"
                }
            ],
            "source": "df_merge.head()"
        },
        {
            "cell_type": "code",
            "execution_count": 50,
            "metadata": {},
            "outputs": [
                {
                    "name": "stdout",
                    "output_type": "stream",
                    "text": "ok\n"
                }
            ],
            "source": "print('ok')"
        },
        {
            "cell_type": "code",
            "execution_count": null,
            "metadata": {},
            "outputs": [],
            "source": ""
        }
    ],
    "metadata": {
        "kernelspec": {
            "display_name": "Python 3.9",
            "language": "python",
            "name": "python3"
        },
        "language_info": {
            "codemirror_mode": {
                "name": "ipython",
                "version": 3
            },
            "file_extension": ".py",
            "mimetype": "text/x-python",
            "name": "python",
            "nbconvert_exporter": "python",
            "pygments_lexer": "ipython3",
            "version": "3.9.12"
        }
    },
    "nbformat": 4,
    "nbformat_minor": 1
}