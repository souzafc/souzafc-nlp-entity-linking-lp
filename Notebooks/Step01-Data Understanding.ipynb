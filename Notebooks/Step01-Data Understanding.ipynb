{
    "cells": [
        {
            "cell_type": "markdown",
            "metadata": {},
            "source": "###### Project: NLP Entity Linking\n###### Step: Data Understanding\n###### Author: Fabio C. Souza - Jun/2022"
        },
        {
            "cell_type": "code",
            "execution_count": 1,
            "metadata": {},
            "outputs": [],
            "source": "# Imports\n\nimport pandas as pd\nimport io\nimport requests\nimport matplotlib.pyplot as plt"
        },
        {
            "cell_type": "code",
            "execution_count": 2,
            "metadata": {},
            "outputs": [],
            "source": "# The code was removed by Watson Studio for sharing."
        },
        {
            "cell_type": "code",
            "execution_count": 3,
            "metadata": {},
            "outputs": [],
            "source": "# Storage access object\n\nimport os, types\nimport pandas as pd\nfrom botocore.client import Config\nimport ibm_boto3\n\ndef __iter__(self): return 0\n\nsto = ibm_boto3.client(service_name='s3',\n    ibm_api_key_id=ibm_api_key_id,\n    ibm_auth_endpoint=ibm_auth_endpoint,\n    config=Config(signature_version='oauth'),\n    endpoint_url=endpoint_url)"
        },
        {
            "cell_type": "code",
            "execution_count": 4,
            "metadata": {},
            "outputs": [],
            "source": "# 1-Reading input dataset\n\nkey='mtsamples_descriptions_clean.txt'\nsto.download_file(Bucket=bucket, Key=key, Filename=key)\ndf = pd.read_csv(key)"
        },
        {
            "cell_type": "code",
            "execution_count": 5,
            "metadata": {},
            "outputs": [
                {
                    "data": {
                        "text/html": "<div>\n<style scoped>\n    .dataframe tbody tr th:only-of-type {\n        vertical-align: middle;\n    }\n\n    .dataframe tbody tr th {\n        vertical-align: top;\n    }\n\n    .dataframe thead th {\n        text-align: right;\n    }\n</style>\n<table border=\"1\" class=\"dataframe\">\n  <thead>\n    <tr style=\"text-align: right;\">\n      <th></th>\n      <th>id</th>\n      <th>id_description</th>\n      <th>medical_specialty_new</th>\n      <th>text</th>\n      <th>year</th>\n      <th>borough</th>\n    </tr>\n  </thead>\n  <tbody>\n    <tr>\n      <th>0</th>\n      <td>0</td>\n      <td>0</td>\n      <td>Gastroenterology</td>\n      <td>EGD with photos and biopsies</td>\n      <td>2013.0</td>\n      <td>Merton</td>\n    </tr>\n    <tr>\n      <th>1</th>\n      <td>1</td>\n      <td>0</td>\n      <td>Gastroenterology</td>\n      <td>This is a 75-year-old female who presents wit...</td>\n      <td>2013.0</td>\n      <td>Merton</td>\n    </tr>\n    <tr>\n      <th>2</th>\n      <td>2</td>\n      <td>0</td>\n      <td>Gastroenterology</td>\n      <td>She has a previous history of hiatal hernia</td>\n      <td>2013.0</td>\n      <td>Merton</td>\n    </tr>\n    <tr>\n      <th>3</th>\n      <td>3</td>\n      <td>0</td>\n      <td>Gastroenterology</td>\n      <td>She was on Prevacid currently</td>\n      <td>2013.0</td>\n      <td>Merton</td>\n    </tr>\n    <tr>\n      <th>4</th>\n      <td>4</td>\n      <td>1</td>\n      <td>Urology</td>\n      <td>Pelvic tumor, cystocele, rectocele, and uteri...</td>\n      <td>2013.0</td>\n      <td>Harrow</td>\n    </tr>\n    <tr>\n      <th>5</th>\n      <td>5</td>\n      <td>1</td>\n      <td>Urology</td>\n      <td>Total abdominal hysterectomy, bilateral salpi...</td>\n      <td>2013.0</td>\n      <td>Harrow</td>\n    </tr>\n    <tr>\n      <th>6</th>\n      <td>6</td>\n      <td>1</td>\n      <td>Urology</td>\n      <td>She had a recent D&amp;C and laparoscopy, and enla...</td>\n      <td>2013.0</td>\n      <td>Harrow</td>\n    </tr>\n    <tr>\n      <th>7</th>\n      <td>7</td>\n      <td>2</td>\n      <td>Cardiovascular / Pulmonary</td>\n      <td>2-D Echocardiogram</td>\n      <td>2013.0</td>\n      <td>Lewisham</td>\n    </tr>\n    <tr>\n      <th>8</th>\n      <td>8</td>\n      <td>3</td>\n      <td>Cardiovascular / Pulmonary</td>\n      <td>2-D Echocardiogram</td>\n      <td>2010.0</td>\n      <td>Barking and Dagenham</td>\n    </tr>\n    <tr>\n      <th>9</th>\n      <td>9</td>\n      <td>4</td>\n      <td>Cardiovascular / Pulmonary</td>\n      <td>2-D M-Mode</td>\n      <td>2016.0</td>\n      <td>Bexley</td>\n    </tr>\n  </tbody>\n</table>\n</div>",
                        "text/plain": "   id  id_description        medical_specialty_new  \\\n0   0               0             Gastroenterology   \n1   1               0             Gastroenterology   \n2   2               0             Gastroenterology   \n3   3               0             Gastroenterology   \n4   4               1                      Urology   \n5   5               1                      Urology   \n6   6               1                      Urology   \n7   7               2   Cardiovascular / Pulmonary   \n8   8               3   Cardiovascular / Pulmonary   \n9   9               4   Cardiovascular / Pulmonary   \n\n                                                text    year  \\\n0                       EGD with photos and biopsies  2013.0   \n1   This is a 75-year-old female who presents wit...  2013.0   \n2        She has a previous history of hiatal hernia  2013.0   \n3                      She was on Prevacid currently  2013.0   \n4   Pelvic tumor, cystocele, rectocele, and uteri...  2013.0   \n5   Total abdominal hysterectomy, bilateral salpi...  2013.0   \n6  She had a recent D&C and laparoscopy, and enla...  2013.0   \n7                                 2-D Echocardiogram  2013.0   \n8                                 2-D Echocardiogram  2010.0   \n9                                         2-D M-Mode  2016.0   \n\n                borough  \n0                Merton  \n1                Merton  \n2                Merton  \n3                Merton  \n4                Harrow  \n5                Harrow  \n6                Harrow  \n7              Lewisham  \n8  Barking and Dagenham  \n9                Bexley  "
                    },
                    "execution_count": 5,
                    "metadata": {},
                    "output_type": "execute_result"
                }
            ],
            "source": "# 2-Viewing the top rows of this DataFrame\n\ndf.head(10)"
        },
        {
            "cell_type": "code",
            "execution_count": 6,
            "metadata": {},
            "outputs": [
                {
                    "data": {
                        "text/html": "<div>\n<style scoped>\n    .dataframe tbody tr th:only-of-type {\n        vertical-align: middle;\n    }\n\n    .dataframe tbody tr th {\n        vertical-align: top;\n    }\n\n    .dataframe thead th {\n        text-align: right;\n    }\n</style>\n<table border=\"1\" class=\"dataframe\">\n  <thead>\n    <tr style=\"text-align: right;\">\n      <th></th>\n      <th>id</th>\n      <th>id_description</th>\n      <th>medical_specialty_new</th>\n      <th>text</th>\n      <th>year</th>\n      <th>borough</th>\n    </tr>\n  </thead>\n  <tbody>\n    <tr>\n      <th>3238</th>\n      <td>3238</td>\n      <td>2351</td>\n      <td>Orthopedic</td>\n      <td>A 19-year-old right-handed male injured in a ...</td>\n      <td>2016.0</td>\n      <td>Ealing</td>\n    </tr>\n    <tr>\n      <th>3239</th>\n      <td>3239</td>\n      <td>2352</td>\n      <td>Urology</td>\n      <td>He continues to have abdominal pain, and he h...</td>\n      <td>2013.0</td>\n      <td>Waltham Forest</td>\n    </tr>\n    <tr>\n      <th>3240</th>\n      <td>3240</td>\n      <td>2353</td>\n      <td>Ophthalmology</td>\n      <td>The patient is being referred for evaluation ...</td>\n      <td>2013.0</td>\n      <td>Wandsworth</td>\n    </tr>\n    <tr>\n      <th>3241</th>\n      <td>3241</td>\n      <td>2354</td>\n      <td>Ophthalmology</td>\n      <td>Patient being referred for evaluation of glau...</td>\n      <td>2013.0</td>\n      <td>Greenwich</td>\n    </tr>\n    <tr>\n      <th>3242</th>\n      <td>3242</td>\n      <td>2355</td>\n      <td>Ophthalmology</td>\n      <td>The patient was referred for evaluation of ca...</td>\n      <td>2010.0</td>\n      <td>Newham</td>\n    </tr>\n    <tr>\n      <th>3243</th>\n      <td>3243</td>\n      <td>2356</td>\n      <td>Ophthalmology</td>\n      <td>Patient referred for narrow angles and possib...</td>\n      <td>2010.0</td>\n      <td>Hounslow</td>\n    </tr>\n    <tr>\n      <th>3244</th>\n      <td>3244</td>\n      <td>2357</td>\n      <td>Dentistry</td>\n      <td>Letter on evaluation regarding extraction of ...</td>\n      <td>2016.0</td>\n      <td>City of London</td>\n    </tr>\n    <tr>\n      <th>3245</th>\n      <td>3245</td>\n      <td>2358</td>\n      <td>Neurology</td>\n      <td>Patient seen in Neuro-Oncology Clinic because...</td>\n      <td>2010.0</td>\n      <td>Kensington and Chelsea</td>\n    </tr>\n    <tr>\n      <th>3246</th>\n      <td>3246</td>\n      <td>2359</td>\n      <td>Gastroenterology</td>\n      <td>Common description of EGD.</td>\n      <td>2016.0</td>\n      <td>Newham</td>\n    </tr>\n    <tr>\n      <th>3247</th>\n      <td>3247</td>\n      <td>2360</td>\n      <td>Gastroenterology</td>\n      <td>Common description of EGD.</td>\n      <td>NaN</td>\n      <td>NaN</td>\n    </tr>\n  </tbody>\n</table>\n</div>",
                        "text/plain": "        id  id_description medical_specialty_new  \\\n3238  3238            2351            Orthopedic   \n3239  3239            2352               Urology   \n3240  3240            2353         Ophthalmology   \n3241  3241            2354         Ophthalmology   \n3242  3242            2355         Ophthalmology   \n3243  3243            2356         Ophthalmology   \n3244  3244            2357             Dentistry   \n3245  3245            2358             Neurology   \n3246  3246            2359      Gastroenterology   \n3247  3247            2360      Gastroenterology   \n\n                                                   text    year  \\\n3238   A 19-year-old right-handed male injured in a ...  2016.0   \n3239   He continues to have abdominal pain, and he h...  2013.0   \n3240   The patient is being referred for evaluation ...  2013.0   \n3241   Patient being referred for evaluation of glau...  2013.0   \n3242   The patient was referred for evaluation of ca...  2010.0   \n3243   Patient referred for narrow angles and possib...  2010.0   \n3244   Letter on evaluation regarding extraction of ...  2016.0   \n3245   Patient seen in Neuro-Oncology Clinic because...  2010.0   \n3246                         Common description of EGD.  2016.0   \n3247                         Common description of EGD.     NaN   \n\n                     borough  \n3238                  Ealing  \n3239          Waltham Forest  \n3240              Wandsworth  \n3241               Greenwich  \n3242                  Newham  \n3243                Hounslow  \n3244          City of London  \n3245  Kensington and Chelsea  \n3246                  Newham  \n3247                     NaN  "
                    },
                    "execution_count": 6,
                    "metadata": {},
                    "output_type": "execute_result"
                }
            ],
            "source": "# Viewing the botton rows of this DataFrame\n\ndf.tail(10)"
        },
        {
            "cell_type": "code",
            "execution_count": 7,
            "metadata": {},
            "outputs": [
                {
                    "data": {
                        "text/html": "<div>\n<style scoped>\n    .dataframe tbody tr th:only-of-type {\n        vertical-align: middle;\n    }\n\n    .dataframe tbody tr th {\n        vertical-align: top;\n    }\n\n    .dataframe thead th {\n        text-align: right;\n    }\n</style>\n<table border=\"1\" class=\"dataframe\">\n  <thead>\n    <tr style=\"text-align: right;\">\n      <th></th>\n      <th>id</th>\n      <th>id_description</th>\n      <th>medical_specialty_new</th>\n      <th>text</th>\n      <th>year</th>\n      <th>borough</th>\n    </tr>\n  </thead>\n  <tbody>\n    <tr>\n      <th>3239</th>\n      <td>3239</td>\n      <td>2352</td>\n      <td>Urology</td>\n      <td>He continues to have abdominal pain, and he h...</td>\n      <td>2013.0</td>\n      <td>Waltham Forest</td>\n    </tr>\n  </tbody>\n</table>\n</div>",
                        "text/plain": "        id  id_description medical_specialty_new  \\\n3239  3239            2352               Urology   \n\n                                                   text    year  \\\n3239   He continues to have abdominal pain, and he h...  2013.0   \n\n             borough  \n3239  Waltham Forest  "
                    },
                    "execution_count": 7,
                    "metadata": {},
                    "output_type": "execute_result"
                }
            ],
            "source": "df.query(\"id_description==2352\")"
        },
        {
            "cell_type": "code",
            "execution_count": 8,
            "metadata": {},
            "outputs": [
                {
                    "data": {
                        "text/html": "<div>\n<style scoped>\n    .dataframe tbody tr th:only-of-type {\n        vertical-align: middle;\n    }\n\n    .dataframe tbody tr th {\n        vertical-align: top;\n    }\n\n    .dataframe thead th {\n        text-align: right;\n    }\n</style>\n<table border=\"1\" class=\"dataframe\">\n  <thead>\n    <tr style=\"text-align: right;\">\n      <th></th>\n      <th>count</th>\n    </tr>\n    <tr>\n      <th>id</th>\n      <th></th>\n    </tr>\n  </thead>\n  <tbody>\n    <tr>\n      <th>0</th>\n      <td>1</td>\n    </tr>\n    <tr>\n      <th>2169</th>\n      <td>1</td>\n    </tr>\n    <tr>\n      <th>2159</th>\n      <td>1</td>\n    </tr>\n  </tbody>\n</table>\n</div>",
                        "text/plain": "      count\nid         \n0         1\n2169      1\n2159      1"
                    },
                    "execution_count": 8,
                    "metadata": {},
                    "output_type": "execute_result"
                }
            ],
            "source": "# 3-Checking for duplicates in the 'id' field\n\ndf['count'] = 0\ndf.groupby(by='id').agg({'count':'count'}).sort_values(by='count', ascending=False)[:3]\n# No duplicates, okay!"
        },
        {
            "cell_type": "code",
            "execution_count": 9,
            "metadata": {},
            "outputs": [
                {
                    "name": "stdout",
                    "output_type": "stream",
                    "text": "id (0, 7)\nid_description (0, 7)\nmedical_specialty_new (1, 7)\ntext (1, 7)\nyear (1, 7)\nborough (1, 7)\ncount (0, 7)\n"
                }
            ],
            "source": "# 4-How many rows in each column have missing values?\n\nfor col in df.columns:\n    print(col, df[df[col].isna()].shape)"
        },
        {
            "cell_type": "code",
            "execution_count": 10,
            "metadata": {},
            "outputs": [
                {
                    "name": "stdout",
                    "output_type": "stream",
                    "text": "(3248, 7)\n(3245, 7)\n\nmissing values\nid (0, 7)\nid_description (0, 7)\nmedical_specialty_new (0, 7)\ntext (0, 7)\nyear (0, 7)\nborough (0, 7)\ncount (0, 7)\n"
                }
            ],
            "source": "# 5-Removing any rows that have missing values and re-running the previous analysis\n\nprint(df.shape)\ndf = df.dropna()\nprint(df.shape)\n\nprint('\\nmissing values')\nfor col in df.columns:\n    print(col, df[df[col].isna()].shape)"
        },
        {
            "cell_type": "code",
            "execution_count": 11,
            "metadata": {},
            "outputs": [
                {
                    "data": {
                        "text/plain": "count    3245.000000\nmean     2013.075809\nstd         2.405639\nmin      2010.000000\n25%      2010.000000\n50%      2013.000000\n75%      2016.000000\nmax      2016.000000\nName: year, dtype: float64"
                    },
                    "execution_count": 11,
                    "metadata": {},
                    "output_type": "execute_result"
                }
            ],
            "source": "# 6-Looking at values in the year column, what are their minimum and maximum\n\ndf['year'] = df['year'].astype(int)\ndf['year'].describe()\n# No zeroes or high-values, Okay!"
        },
        {
            "cell_type": "code",
            "execution_count": 12,
            "metadata": {},
            "outputs": [
                {
                    "data": {
                        "text/html": "<div>\n<style scoped>\n    .dataframe tbody tr th:only-of-type {\n        vertical-align: middle;\n    }\n\n    .dataframe tbody tr th {\n        vertical-align: top;\n    }\n\n    .dataframe thead th {\n        text-align: right;\n    }\n</style>\n<table border=\"1\" class=\"dataframe\">\n  <thead>\n    <tr style=\"text-align: right;\">\n      <th></th>\n      <th>count</th>\n    </tr>\n    <tr>\n      <th>medical_specialty_new</th>\n      <th></th>\n    </tr>\n  </thead>\n  <tbody>\n    <tr>\n      <th>Orthopedic</th>\n      <td>475</td>\n    </tr>\n    <tr>\n      <th>Radiology</th>\n      <td>366</td>\n    </tr>\n    <tr>\n      <th>Cardiovascular / Pulmonary</th>\n      <td>355</td>\n    </tr>\n    <tr>\n      <th>Gastroenterology</th>\n      <td>333</td>\n    </tr>\n    <tr>\n      <th>Obstetrics / Gynecology</th>\n      <td>233</td>\n    </tr>\n    <tr>\n      <th>Urology</th>\n      <td>228</td>\n    </tr>\n    <tr>\n      <th>General Medicine</th>\n      <td>197</td>\n    </tr>\n    <tr>\n      <th>Ophthalmology</th>\n      <td>129</td>\n    </tr>\n    <tr>\n      <th>ENT - Otolaryngology</th>\n      <td>124</td>\n    </tr>\n    <tr>\n      <th>Surgery</th>\n      <td>92</td>\n    </tr>\n  </tbody>\n</table>\n</div>",
                        "text/plain": "                             count\nmedical_specialty_new             \n Orthopedic                    475\n Radiology                     366\n Cardiovascular / Pulmonary    355\n Gastroenterology              333\n Obstetrics / Gynecology       233\n Urology                       228\n General Medicine              197\n Ophthalmology                 129\n ENT - Otolaryngology          124\n Surgery                        92"
                    },
                    "execution_count": 12,
                    "metadata": {},
                    "output_type": "execute_result"
                }
            ],
            "source": "# 7-Showing the top 10 most frequent values in the medical_specialty_new column\n\ndf.groupby(by=['medical_specialty_new']).agg({'id':'count'}).sort_values(by='id', ascending=False).rename(columns={'id':'count'})[:10]"
        },
        {
            "cell_type": "code",
            "execution_count": 13,
            "metadata": {},
            "outputs": [
                {
                    "data": {
                        "text/html": "<div>\n<style scoped>\n    .dataframe tbody tr th:only-of-type {\n        vertical-align: middle;\n    }\n\n    .dataframe tbody tr th {\n        vertical-align: top;\n    }\n\n    .dataframe thead th {\n        text-align: right;\n    }\n</style>\n<table border=\"1\" class=\"dataframe\">\n  <thead>\n    <tr style=\"text-align: right;\">\n      <th></th>\n      <th>count</th>\n    </tr>\n    <tr>\n      <th>text</th>\n      <th></th>\n    </tr>\n  </thead>\n  <tbody>\n    <tr>\n      <th>Laparoscopic appendectomy</th>\n      <td>7</td>\n    </tr>\n    <tr>\n      <th>Colonoscopy</th>\n      <td>5</td>\n    </tr>\n    <tr>\n      <th>Laparoscopic cholecystectomy</th>\n      <td>5</td>\n    </tr>\n    <tr>\n      <th>Cataract, right eye</th>\n      <td>5</td>\n    </tr>\n    <tr>\n      <th>Normal review of systems template</th>\n      <td>4</td>\n    </tr>\n    <tr>\n      <th>Desires permanent sterilization</th>\n      <td>3</td>\n    </tr>\n    <tr>\n      <th>Sample progress note - Gen Med.</th>\n      <td>3</td>\n    </tr>\n    <tr>\n      <th>An example/template for a routine normal male physical exam.</th>\n      <td>3</td>\n    </tr>\n    <tr>\n      <th>Normal nuclear myocardial perfusion scan.</th>\n      <td>3</td>\n    </tr>\n    <tr>\n      <th>Normal physical exam template</th>\n      <td>3</td>\n    </tr>\n  </tbody>\n</table>\n</div>",
                        "text/plain": "                                                    count\ntext                                                     \n Laparoscopic appendectomy                              7\n Colonoscopy                                            5\n Laparoscopic cholecystectomy                           5\n Cataract, right eye                                    5\n Normal review of systems template                      4\n Desires permanent sterilization                        3\n Sample progress note - Gen Med.                        3\n An example/template for a routine normal male ...      3\n Normal nuclear myocardial perfusion scan.              3\n Normal physical exam template                          3"
                    },
                    "execution_count": 13,
                    "metadata": {},
                    "output_type": "execute_result"
                }
            ],
            "source": "# 8-Showing the top 10 most frequent values in the text column\n\ndf.groupby(by=['text']).agg({'id':'count'}).sort_values(by='id', ascending=False).rename(columns={'id':'count'})[:10]"
        },
        {
            "cell_type": "code",
            "execution_count": 14,
            "metadata": {},
            "outputs": [
                {
                    "data": {
                        "image/png": "[encoded data removed]",
                        "text/plain": "<Figure size 432x288 with 1 Axes>"
                    },
                    "metadata": {
                        "needs_background": "light"
                    },
                    "output_type": "display_data"
                }
            ],
            "source": "# 9-Adding a length column to the dataframe for the length of the text values, then analyzing the range of text lengths\n\ndf['text_length'] = df['text'].apply(lambda x: len(x))\ndf['text_length'].hist(bins=25)\nplt.show()"
        },
        {
            "cell_type": "code",
            "execution_count": 21,
            "metadata": {},
            "outputs": [
                {
                    "data": {
                        "text/plain": "count    3245.000000\nmean       72.200308\nstd        47.714916\nmin         5.000000\n25%        38.000000\n50%        60.000000\n75%        93.000000\nmax       492.000000\nName: text, dtype: float64"
                    },
                    "execution_count": 21,
                    "metadata": {},
                    "output_type": "execute_result"
                }
            ],
            "source": "df['text'].apply(lambda x: len(x)).describe()"
        },
        {
            "cell_type": "code",
            "execution_count": null,
            "metadata": {},
            "outputs": [],
            "source": ""
        }
    ],
    "metadata": {
        "kernelspec": {
            "display_name": "Python 3.9",
            "language": "python",
            "name": "python3"
        },
        "language_info": {
            "codemirror_mode": {
                "name": "ipython",
                "version": 3
            },
            "file_extension": ".py",
            "mimetype": "text/x-python",
            "name": "python",
            "nbconvert_exporter": "python",
            "pygments_lexer": "ipython3",
            "version": "3.9.12"
        }
    },
    "nbformat": 4,
    "nbformat_minor": 1
}