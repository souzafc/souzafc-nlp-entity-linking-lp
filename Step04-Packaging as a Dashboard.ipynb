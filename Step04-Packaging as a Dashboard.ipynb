{
    "cells": [
        {
            "cell_type": "markdown",
            "metadata": {},
            "source": "###### Project: NLP Entity Linking\n###### Step: Packaging as a Dashboard\n###### Author: Fabio C. Souza - Jun/2022\n\n###### Note: Instead of creating a py script to launch the Strealit server, we've taken the liberty of using Cognos Embedded Dashboard - link below.\n"
        },
        {
            "cell_type": "code",
            "execution_count": 1,
            "metadata": {},
            "outputs": [],
            "source": "#!pip install streamlit"
        },
        {
            "cell_type": "code",
            "execution_count": 1,
            "metadata": {},
            "outputs": [],
            "source": "# Parameter\n\ncloud = True"
        },
        {
            "cell_type": "code",
            "execution_count": 2,
            "metadata": {},
            "outputs": [],
            "source": "# Imports\n\nimport pandas as pd"
        },
        {
            "cell_type": "code",
            "execution_count": 3,
            "metadata": {},
            "outputs": [],
            "source": "# The code was removed by Watson Studio for sharing."
        },
        {
            "cell_type": "code",
            "execution_count": 4,
            "metadata": {},
            "outputs": [],
            "source": "# Storage access object\n\nif cloud:\n    import os, types\n    import pandas as pd\n    from botocore.client import Config\n    import ibm_boto3\n\n    def __iter__(self): return 0\n\n    sto = ibm_boto3.client(service_name='s3',\n        ibm_api_key_id=ibm_api_key_id,\n        ibm_auth_endpoint=ibm_auth_endpoint,\n        config=Config(signature_version='oauth'),\n        endpoint_url=endpoint_url)"
        },
        {
            "cell_type": "code",
            "execution_count": 5,
            "metadata": {},
            "outputs": [],
            "source": "# Downloading previous saved file\n\nkey = \"df_clean.csv\"\nif cloud: sto.download_file(Bucket=bucket, Key=key, Filename=key)\ndf_clean = pd.read_csv(key)"
        },
        {
            "cell_type": "code",
            "execution_count": 6,
            "metadata": {},
            "outputs": [],
            "source": "# Dataset for relative size of each key-point cluster\n\ndf_clean_relat_sz = df_clean.groupby(by='kp').agg({'comment_id':'count'}).reset_index()\ndf_clean_relat_sz['total_comments'] = df_clean_relat_sz['comment_id'].sum()\ndf_clean_relat_sz['relative_size'] = (df_clean_relat_sz['comment_id'] / df_clean_relat_sz['total_comments']) *100\ndf_clean_relat_sz.sort_values(by='relative_size', ascending=False, inplace=True)\ndf_clean_relat_sz['kp_short'] = df_clean_relat_sz['kp'].apply(lambda x: x[:10] + \"...\")\ndf_clean_relat_sz['kp_short'] = df_clean_relat_sz[['kp_short','relative_size']].\\\n                                    apply(lambda r: r['kp_short'] + \" (\" + str(int(round(r['relative_size'],0))) + \"%)\", axis=1) \n\n## Saving treemap dataframe so it can be presented into Cognos Embedded\nkey = \"df_clean_relat_sz.csv\"\ndf_clean_relat_sz.to_csv(key)\nif cloud: sto.upload_file(Bucket=bucket, Key=key, Filename=key)"
        },
        {
            "cell_type": "code",
            "execution_count": 7,
            "metadata": {},
            "outputs": [
                {
                    "name": "stdout",
                    "output_type": "stream",
                    "text": "ok\n"
                }
            ],
            "source": "print('ok')"
        },
        {
            "cell_type": "code",
            "execution_count": null,
            "metadata": {},
            "outputs": [],
            "source": ""
        }
    ],
    "metadata": {
        "kernelspec": {
            "display_name": "Python 3.9",
            "language": "python",
            "name": "python3"
        },
        "language_info": {
            "codemirror_mode": {
                "name": "ipython",
                "version": 3
            },
            "file_extension": ".py",
            "mimetype": "text/x-python",
            "name": "python",
            "nbconvert_exporter": "python",
            "pygments_lexer": "ipython3",
            "version": "3.9.7"
        }
    },
    "nbformat": 4,
    "nbformat_minor": 1
}